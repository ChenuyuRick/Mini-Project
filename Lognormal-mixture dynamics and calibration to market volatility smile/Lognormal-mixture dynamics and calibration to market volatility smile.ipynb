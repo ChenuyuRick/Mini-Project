{
 "cells": [
  {
   "cell_type": "markdown",
   "metadata": {},
   "source": [
    "# Valuation Project (Project 1)"
   ]
  },
  {
   "cell_type": "markdown",
   "metadata": {},
   "source": [
    "## Chenyu Wang & Zian zhang"
   ]
  },
  {
   "cell_type": "markdown",
   "metadata": {},
   "source": [
    "### Import Modules"
   ]
  },
  {
   "cell_type": "code",
   "execution_count": 1,
   "metadata": {},
   "outputs": [],
   "source": [
    "import pandas as pd\n",
    "import numpy as np\n",
    "import matplotlib.pyplot as plt\n",
    "from scipy.optimize import least_squares, leastsq\n",
    "from scipy.stats import norm"
   ]
  },
  {
   "cell_type": "markdown",
   "metadata": {},
   "source": [
    "### Part 1 : Calibrate the 5 parameters"
   ]
  },
  {
   "cell_type": "markdown",
   "metadata": {},
   "source": [
    "#### Step 1 : Write 2 classes to prepare for the optimization problem"
   ]
  },
  {
   "cell_type": "code",
   "execution_count": 2,
   "metadata": {},
   "outputs": [],
   "source": [
    "class Option:\n",
    "    def __init__(self, miu_1, miu_2, sigma_1, sigma_2, u, r, T):\n",
    "        self.miu_1 = miu_1\n",
    "        self.miu_2 = miu_2\n",
    "        self.sigma_1 = sigma_1\n",
    "        self.sigma_2 = sigma_2\n",
    "        self.u = u\n",
    "        self.r = r\n",
    "        self.T = T\n",
    "    \n",
    "    def option_price(self, miu, sigma, k):\n",
    "        d1 = (np.log(miu*np.exp(-self.r*self.T)/k)+(0.5*pow(sigma,2))*self.T)/(sigma*np.sqrt(self.T))\n",
    "        d2 = d1 - sigma*np.sqrt(self.T)\n",
    "        N_d1 = norm.cdf(d1)\n",
    "        N_d2 = norm.cdf(d2)\n",
    "        return (miu*np.exp(-self.r*self.T))*N_d1 - k*np.exp(-self.r*self.T)*N_d2\n",
    "    \n",
    "    def theoritical_price(self, k):\n",
    "        option_1 = self.option_price(self.miu_1, self.sigma_1, k) \n",
    "        option_2 = self.option_price(self.miu_2, self.sigma_2, k) \n",
    "        return self.u*option_1 + (1-self.u)*option_2\n",
    "    \n",
    "    def deriv_k(self, miu, sigma, k):\n",
    "        d1 = (np.log(miu*np.exp(-self.r*self.T)/k)+(0.5*pow(sigma,2))*self.T)/(sigma*np.sqrt(self.T))\n",
    "        d2 = d1 - sigma*np.sqrt(self.T)\n",
    "        return 1/(k*sigma*np.sqrt(2*np.pi*self.T))*np.exp(-self.r*self.T - 0.5*pow(d2, 2))\n",
    "    \n",
    "    def deriv_the_k(self, k):\n",
    "        deriv_k_1 = self.deriv_k(self.miu_1, self.sigma_1, k)\n",
    "        deriv_k_2 = self.deriv_k(self.miu_2, self.sigma_2, k)\n",
    "        return self.u*deriv_k_1 + (1 - self.u)*deriv_k_2\n",
    "    \n",
    "    def update_params(self, x):\n",
    "        self.miu_1 = x[0]\n",
    "        self.miu_2 = x[1]\n",
    "        self.sigma_1 = x[2]\n",
    "        self.sigma_2 = x[3]\n",
    "        self.u = x[4]       "
   ]
  },
  {
   "cell_type": "code",
   "execution_count": 3,
   "metadata": {},
   "outputs": [],
   "source": [
    "class Fitter:\n",
    "    def __init__(self, model, k_data, true_value):\n",
    "        self.model = model\n",
    "        self.k_data = k_data\n",
    "        self.true_value = true_value\n",
    "    \n",
    "    def residuals(self,x):\n",
    "        m = self.model\n",
    "        m.update_params(x)\n",
    "        thr_value = np.array([m.theoritical_price(k) for k in self.k_data])\n",
    "        residual = thr_value - self.true_value\n",
    "        return residual\n",
    "    \n",
    "    def fit(self,x0):\n",
    "        bound_lower = [0, 0, 0, 0, 0]\n",
    "        bound_upper = [4000, 4000, 0.5, 0.5, 1]\n",
    "        return least_squares(self.residuals,x0, bounds = (bound_lower, bound_upper))"
   ]
  },
  {
   "cell_type": "markdown",
   "metadata": {},
   "source": [
    "#### Step 2 : Import data"
   ]
  },
  {
   "cell_type": "code",
   "execution_count": 4,
   "metadata": {},
   "outputs": [],
   "source": [
    "data = pd.read_excel('val_data.xlsx')"
   ]
  },
  {
   "cell_type": "code",
   "execution_count": 5,
   "metadata": {
    "scrolled": true
   },
   "outputs": [
    {
     "data": {
      "text/html": [
       "<div>\n",
       "<style scoped>\n",
       "    .dataframe tbody tr th:only-of-type {\n",
       "        vertical-align: middle;\n",
       "    }\n",
       "\n",
       "    .dataframe tbody tr th {\n",
       "        vertical-align: top;\n",
       "    }\n",
       "\n",
       "    .dataframe thead th {\n",
       "        text-align: right;\n",
       "    }\n",
       "</style>\n",
       "<table border=\"1\" class=\"dataframe\">\n",
       "  <thead>\n",
       "    <tr style=\"text-align: right;\">\n",
       "      <th></th>\n",
       "      <th>strike</th>\n",
       "      <th>type</th>\n",
       "      <th>price</th>\n",
       "    </tr>\n",
       "  </thead>\n",
       "  <tbody>\n",
       "    <tr>\n",
       "      <th>0</th>\n",
       "      <td>1500</td>\n",
       "      <td>Call</td>\n",
       "      <td>1623.9</td>\n",
       "    </tr>\n",
       "    <tr>\n",
       "      <th>1</th>\n",
       "      <td>1600</td>\n",
       "      <td>Call</td>\n",
       "      <td>1524.8</td>\n",
       "    </tr>\n",
       "    <tr>\n",
       "      <th>2</th>\n",
       "      <td>1700</td>\n",
       "      <td>Call</td>\n",
       "      <td>1425.6</td>\n",
       "    </tr>\n",
       "    <tr>\n",
       "      <th>3</th>\n",
       "      <td>1800</td>\n",
       "      <td>Call</td>\n",
       "      <td>1326.6</td>\n",
       "    </tr>\n",
       "    <tr>\n",
       "      <th>4</th>\n",
       "      <td>1850</td>\n",
       "      <td>Call</td>\n",
       "      <td>1277.1</td>\n",
       "    </tr>\n",
       "  </tbody>\n",
       "</table>\n",
       "</div>"
      ],
      "text/plain": [
       "   strike  type   price\n",
       "0    1500  Call  1623.9\n",
       "1    1600  Call  1524.8\n",
       "2    1700  Call  1425.6\n",
       "3    1800  Call  1326.6\n",
       "4    1850  Call  1277.1"
      ]
     },
     "execution_count": 5,
     "metadata": {},
     "output_type": "execute_result"
    }
   ],
   "source": [
    "data.head()"
   ]
  },
  {
   "cell_type": "markdown",
   "metadata": {},
   "source": [
    "#### Step 3 : Initialize the 5 parameters"
   ]
  },
  {
   "cell_type": "code",
   "execution_count": 6,
   "metadata": {},
   "outputs": [],
   "source": [
    "x0 = [2800, 3200, 0.1, 0.2, 0.5]\n",
    "model1 = Option(2800, 3200, 0.1, 0.2, 0.5, 0.02, 0.5)"
   ]
  },
  {
   "cell_type": "code",
   "execution_count": 7,
   "metadata": {},
   "outputs": [],
   "source": [
    "fitter = Fitter(model1, np.array(data['strike']), np.array(data['price']))"
   ]
  },
  {
   "cell_type": "markdown",
   "metadata": {},
   "source": [
    "#### Step 4 : Optimization"
   ]
  },
  {
   "cell_type": "code",
   "execution_count": 8,
   "metadata": {},
   "outputs": [
    {
     "data": {
      "text/plain": [
       " active_mask: array([0, 0, 0, 0, 0])\n",
       "        cost: 43.85517816624806\n",
       "         fun: array([ 1.29198213,  1.38709177,  1.58287066,  1.58245991,  1.58688261,\n",
       "        1.59847807,  1.52310692,  1.37015515,  1.15384676,  0.99463956,\n",
       "        0.72053115,  0.36806101, -0.01721261, -0.20585631, -0.24880556,\n",
       "       -0.38094935, -0.40176828, -0.51073346, -0.50730727, -0.59094419,\n",
       "       -0.66109166, -0.71719096, -0.75867817, -0.78498515, -0.89554052,\n",
       "       -0.88977074, -0.96710113, -0.92695698, -0.96876463, -0.9919526 ,\n",
       "       -0.99595268, -0.98020111, -1.04413965, -0.98721671, -1.00888851,\n",
       "       -1.0086201 , -0.98588653, -0.94017386, -0.8709802 , -0.87781674,\n",
       "       -0.76020873, -0.71769641, -0.74983594, -0.65620024, -0.63637982,\n",
       "       -0.48998358, -0.51663952, -0.41599539, -0.38771937, -0.3315006 ,\n",
       "       -0.24704969, -0.13409918, -0.09240391, -0.0217413 ,  0.07808839,\n",
       "        0.107262  ,  0.16593346,  0.25423394,  0.37227224,  0.42013531,\n",
       "        0.49788924,  0.60558042,  0.64323739,  0.71087317,  0.70848837,\n",
       "        0.83607529,  0.7936231 ,  0.88112442,  0.8985835 ,  0.94602634,\n",
       "        1.02351292,  1.03115197,  1.06911839,  1.1376737 ,  1.1371896 ,\n",
       "        1.06817481,  1.03130522,  1.02745718,  0.95774384,  0.9235539 ,\n",
       "        0.82659243,  0.76892289,  0.65300934,  0.48175778,  0.35855533,\n",
       "        0.18730564,  0.07245922, -0.08096316, -0.16735543, -0.3805212 ,\n",
       "       -0.51368001, -0.65948627, -0.81006158, -0.95704114, -1.09163438,\n",
       "       -1.20469967, -1.28683215, -1.32846387, -1.31997426, -1.15180917,\n",
       "       -1.01460586, -0.89932137, -0.79736134, -0.80070609, -0.70203119,\n",
       "       -0.59481927, -0.47346055, -0.33333943, -0.17090521,  0.01627477,\n",
       "        0.12948082,  0.26882581,  0.43325956,  0.52059225,  0.72753572,\n",
       "        0.74976153,  0.88197372,  0.91799434,  0.95085933,  0.97292222,\n",
       "        0.97596322,  0.951301  ,  0.78990485,  0.68250485,  0.61969808,\n",
       "        0.49204891,  0.39018212,  0.20486733,  0.12709417, -0.1403881 ,\n",
       "       -0.49141879, -0.59215885, -0.49773281, -0.38536341, -0.27939059,\n",
       "       -0.1383783 , -0.11342982, -0.09156378])\n",
       "        grad: array([ 3.09242772e-05, -6.69920618e-05,  7.96074226e-02,  1.13481117e-02,\n",
       "       -6.99340888e-03])\n",
       "         jac: array([[ 2.73575227e-01,  7.16474485e-01,  1.20544434e-03,\n",
       "         0.00000000e+00, -4.22411880e+02],\n",
       "       [ 2.73574052e-01,  7.16474490e-01,  1.19934082e-02,\n",
       "         0.00000000e+00, -4.22411560e+02],\n",
       "       [ 2.73565369e-01,  7.16474490e-01,  8.41522217e-02,\n",
       "         0.00000000e+00, -4.22408783e+02],\n",
       "       [ 2.73518404e-01,  7.16474490e-01,  4.32891846e-01,\n",
       "         0.00000000e+00, -4.22392227e+02],\n",
       "       [ 2.73452247e-01,  7.16474490e-01,  8.86917114e-01,\n",
       "         0.00000000e+00, -4.22367218e+02],\n",
       "       [ 2.73324785e-01,  7.16474490e-01,  1.70901489e+00,\n",
       "         0.00000000e+00, -4.22316238e+02],\n",
       "       [ 2.73092992e-01,  7.16474490e-01,  3.11054993e+00,\n",
       "         0.00000000e+00, -4.22218094e+02],\n",
       "       [ 2.72693655e-01,  7.16474485e-01,  5.36843872e+00,\n",
       "         0.00000000e+00, -4.22038818e+02],\n",
       "       [ 2.72039428e-01,  7.16474485e-01,  8.81712341e+00,\n",
       "         0.00000000e+00, -4.21726929e+02],\n",
       "       [ 2.71016826e-01,  7.16474490e-01,  1.38257446e+01,\n",
       "         0.00000000e+00, -4.21208389e+02],\n",
       "       [ 2.69487187e-01,  7.16474488e-01,  2.07602005e+01,\n",
       "         0.00000000e+00, -4.20381882e+02],\n",
       "       [ 2.67291352e-01,  7.16474485e-01,  2.99328308e+01,\n",
       "         0.00000000e+00, -4.19115189e+02],\n",
       "       [ 2.64258487e-01,  7.16474488e-01,  4.15465164e+01,\n",
       "         0.00000000e+00, -4.17243401e+02],\n",
       "       [ 2.61965756e-01,  7.16474490e-01,  4.97114563e+01,\n",
       "         0.00000000e+00, -4.15749321e+02],\n",
       "       [ 2.61114815e-01,  7.16474488e-01,  5.26289749e+01,\n",
       "         0.00000000e+00, -4.15179169e+02],\n",
       "       [ 2.60218476e-01,  7.16474490e-01,  5.56420441e+01,\n",
       "         0.00000000e+00, -4.14569893e+02],\n",
       "       [ 2.59275571e-01,  7.16474488e-01,  5.87486725e+01,\n",
       "         0.00000000e+00, -4.13919655e+02],\n",
       "       [ 2.58284981e-01,  7.16474488e-01,  6.19465027e+01,\n",
       "         0.00000000e+00, -4.13226509e+02],\n",
       "       [ 2.57245654e-01,  7.16474490e-01,  6.52328949e+01,\n",
       "         0.00000000e+00, -4.12488525e+02],\n",
       "       [ 2.56156596e-01,  7.16474488e-01,  6.86047974e+01,\n",
       "         0.00000000e+00, -4.11703712e+02],\n",
       "       [ 2.55016856e-01,  7.16474488e-01,  7.20587769e+01,\n",
       "         0.00000000e+00, -4.10870094e+02],\n",
       "       [ 2.53825583e-01,  7.16474490e-01,  7.55911026e+01,\n",
       "         0.00000000e+00, -4.09985626e+02],\n",
       "       [ 2.52581972e-01,  7.16474488e-01,  7.91976547e+01,\n",
       "         2.28881836e-05, -4.09048286e+02],\n",
       "       [ 2.51285327e-01,  7.16474488e-01,  8.28740234e+01,\n",
       "         0.00000000e+00, -4.08056007e+02],\n",
       "       [ 2.49935009e-01,  7.16474490e-01,  8.66154556e+01,\n",
       "         0.00000000e+00, -4.07006714e+02],\n",
       "       [ 2.48530472e-01,  7.16474488e-01,  9.04168854e+01,\n",
       "         0.00000000e+00, -4.05898361e+02],\n",
       "       [ 2.47071267e-01,  7.16474495e-01,  9.42729263e+01,\n",
       "         2.28881836e-05, -4.04728836e+02],\n",
       "       [ 2.45557028e-01,  7.16474490e-01,  9.81779099e+01,\n",
       "         0.00000000e+00, -4.03496078e+02],\n",
       "       [ 2.43987485e-01,  7.16474490e-01,  1.02125931e+02,\n",
       "         0.00000000e+00, -4.02198006e+02],\n",
       "       [ 2.42362475e-01,  7.16474488e-01,  1.06110847e+02,\n",
       "         0.00000000e+00, -4.00832542e+02],\n",
       "       [ 2.40681924e-01,  7.16474488e-01,  1.10126205e+02,\n",
       "         0.00000000e+00, -3.99397644e+02],\n",
       "       [ 2.38945859e-01,  7.16474495e-01,  1.14165428e+02,\n",
       "         2.28881836e-05, -3.97891266e+02],\n",
       "       [ 2.37154429e-01,  7.16474481e-01,  1.18221687e+02,\n",
       "        -2.28881836e-05, -3.96311386e+02],\n",
       "       [ 2.35307857e-01,  7.16474488e-01,  1.22288025e+02,\n",
       "         2.28881836e-05, -3.94656006e+02],\n",
       "       [ 2.33406493e-01,  7.16474488e-01,  1.26357346e+02,\n",
       "         2.28881836e-05, -3.92923180e+02],\n",
       "       [ 2.31450795e-01,  7.16474495e-01,  1.30422409e+02,\n",
       "         4.57763672e-05, -3.91110931e+02],\n",
       "       [ 2.29441296e-01,  7.16474481e-01,  1.34475899e+02,\n",
       "        -2.28881836e-05, -3.89217392e+02],\n",
       "       [ 2.27378675e-01,  7.16474481e-01,  1.38510445e+02,\n",
       "        -1.52587891e-05, -3.87240685e+02],\n",
       "       [ 2.25263684e-01,  7.16474499e-01,  1.42518600e+02,\n",
       "         0.00000000e+00, -3.85179016e+02],\n",
       "       [ 2.23097183e-01,  7.16474488e-01,  1.46492950e+02,\n",
       "        -4.57763672e-05, -3.83030602e+02],\n",
       "       [ 2.20880149e-01,  7.16474495e-01,  1.50426056e+02,\n",
       "        -4.57763672e-05, -3.80793709e+02],\n",
       "       [ 2.18613637e-01,  7.16474502e-01,  1.54310539e+02,\n",
       "        -6.86645508e-05, -3.78466698e+02],\n",
       "       [ 2.16298808e-01,  7.16474502e-01,  1.58139038e+02,\n",
       "        -9.15527344e-05, -3.76047958e+02],\n",
       "       [ 2.13936925e-01,  7.16474502e-01,  1.61904358e+02,\n",
       "        -1.06811523e-04, -3.73535934e+02],\n",
       "       [ 2.11529329e-01,  7.16474509e-01,  1.65599350e+02,\n",
       "        -1.98364258e-04, -3.70929146e+02],\n",
       "       [ 2.09077447e-01,  7.16474516e-01,  1.69217041e+02,\n",
       "        -2.67028809e-04, -3.68226189e+02],\n",
       "       [ 2.06582804e-01,  7.16474537e-01,  1.72750603e+02,\n",
       "        -3.73840332e-04, -3.65425705e+02],\n",
       "       [ 2.04046998e-01,  7.16474548e-01,  1.76193390e+02,\n",
       "        -5.79833984e-04, -3.62526428e+02],\n",
       "       [ 2.01471703e-01,  7.16474570e-01,  1.79538986e+02,\n",
       "        -7.78198242e-04, -3.59527145e+02],\n",
       "       [ 1.98858667e-01,  7.16474605e-01,  1.82781181e+02,\n",
       "        -9.68933105e-04, -3.56426735e+02],\n",
       "       [ 1.96209697e-01,  7.16474644e-01,  1.85913990e+02,\n",
       "        -1.16729736e-03, -3.53224163e+02],\n",
       "       [ 1.93526676e-01,  7.16474691e-01,  1.88931740e+02,\n",
       "        -1.32369995e-03, -3.49918449e+02],\n",
       "       [ 1.90811540e-01,  7.16474746e-01,  1.91829014e+02,\n",
       "        -1.43432617e-03, -3.46508698e+02],\n",
       "       [ 1.88066275e-01,  7.16474800e-01,  1.94600712e+02,\n",
       "        -1.25885010e-03, -3.42994118e+02],\n",
       "       [ 1.85292920e-01,  7.16474834e-01,  1.97242012e+02,\n",
       "        -5.34057617e-04, -3.39373985e+02],\n",
       "       [ 1.82493553e-01,  7.16474834e-01,  1.99748436e+02,\n",
       "         1.08337402e-03, -3.35647652e+02],\n",
       "       [ 1.79670289e-01,  7.16474731e-01,  2.02115849e+02,\n",
       "         4.17327881e-03, -3.31814575e+02],\n",
       "       [ 1.76825282e-01,  7.16474475e-01,  2.04340473e+02,\n",
       "         9.69314575e-03, -3.27874275e+02],\n",
       "       [ 1.73960708e-01,  7.16473960e-01,  2.06418858e+02,\n",
       "         1.89704895e-02, -3.23826382e+02],\n",
       "       [ 1.71078754e-01,  7.16472997e-01,  2.08347908e+02,\n",
       "         3.39431763e-02, -3.19670609e+02],\n",
       "       [ 1.68181640e-01,  7.16471324e-01,  2.10124928e+02,\n",
       "         5.73539734e-02, -3.15406727e+02],\n",
       "       [ 1.65271585e-01,  7.16468587e-01,  2.11747559e+02,\n",
       "         9.29565430e-02, -3.11034637e+02],\n",
       "       [ 1.62350829e-01,  7.16464236e-01,  2.13213863e+02,\n",
       "         1.45935059e-01, -3.06554306e+02],\n",
       "       [ 1.59421594e-01,  7.16457535e-01,  2.14522232e+02,\n",
       "         2.23297119e-01, -3.01965813e+02],\n",
       "       [ 1.56486108e-01,  7.16447424e-01,  2.15671432e+02,\n",
       "         3.34228516e-01, -2.97269306e+02],\n",
       "       [ 1.53546584e-01,  7.16432514e-01,  2.16660652e+02,\n",
       "         4.90814209e-01, -2.92465054e+02],\n",
       "       [ 1.50605220e-01,  7.16410891e-01,  2.17489353e+02,\n",
       "         7.08549500e-01, -2.87553432e+02],\n",
       "       [ 1.47664203e-01,  7.16380049e-01,  2.18157463e+02,\n",
       "         1.00720215e+00, -2.82534920e+02],\n",
       "       [ 1.44725686e-01,  7.16336691e-01,  2.18665195e+02,\n",
       "         1.41143799e+00, -2.77410118e+02],\n",
       "       [ 1.41791798e-01,  7.16276570e-01,  2.19013149e+02,\n",
       "         1.95194244e+00, -2.72179764e+02],\n",
       "       [ 1.38864639e-01,  7.16194266e-01,  2.19202251e+02,\n",
       "         2.66592407e+00, -2.66844742e+02],\n",
       "       [ 1.35946262e-01,  7.16082934e-01,  2.19233753e+02,\n",
       "         3.59834290e+00, -2.61406097e+02],\n",
       "       [ 1.33038690e-01,  7.15934101e-01,  2.19109241e+02,\n",
       "         4.80265427e+00, -2.55865059e+02],\n",
       "       [ 1.30143900e-01,  7.15737253e-01,  2.18830624e+02,\n",
       "         6.34138870e+00, -2.50223095e+02],\n",
       "       [ 1.27263815e-01,  7.15479635e-01,  2.18400066e+02,\n",
       "         8.28701782e+00, -2.44481876e+02],\n",
       "       [ 1.24400315e-01,  7.15145905e-01,  2.17820076e+02,\n",
       "         1.07220001e+01, -2.38643368e+02],\n",
       "       [ 1.21555222e-01,  7.14717749e-01,  2.17093372e+02,\n",
       "         1.37391396e+01, -2.32709839e+02],\n",
       "       [ 1.18730303e-01,  7.14173675e-01,  2.16222988e+02,\n",
       "         1.74410629e+01, -2.26683926e+02],\n",
       "       [ 1.15927266e-01,  7.13488626e-01,  2.15212158e+02,\n",
       "         2.19395828e+01, -2.20568661e+02],\n",
       "       [ 1.13147762e-01,  7.12633792e-01,  2.14064373e+02,\n",
       "         2.73545151e+01, -2.14367516e+02],\n",
       "       [ 1.10393367e-01,  7.11576346e-01,  2.12783316e+02,\n",
       "         3.38115406e+01, -2.08084490e+02],\n",
       "       [ 1.07665608e-01,  7.10279452e-01,  2.11372881e+02,\n",
       "         4.14403210e+01, -2.01724123e+02],\n",
       "       [ 1.04965936e-01,  7.08702072e-01,  2.09837143e+02,\n",
       "         5.03710670e+01, -1.95291576e+02],\n",
       "       [ 1.02295730e-01,  7.06799210e-01,  2.08180325e+02,\n",
       "         6.07313385e+01, -1.88792679e+02],\n",
       "       [ 9.96563146e-02,  7.04522044e-01,  2.06406839e+02,\n",
       "         7.26417465e+01, -1.82233967e+02],\n",
       "       [ 9.70489331e-02,  7.01818295e-01,  2.04521187e+02,\n",
       "         8.62114716e+01, -1.75622749e+02],\n",
       "       [ 9.44747623e-02,  6.98632780e-01,  2.02528011e+02,\n",
       "         1.01533585e+02, -1.68967131e+02],\n",
       "       [ 9.19349044e-02,  6.94908065e-01,  2.00432051e+02,\n",
       "         1.18679882e+02, -1.62276041e+02],\n",
       "       [ 8.94303983e-02,  6.90585231e-01,  1.98238142e+02,\n",
       "         1.37695921e+02, -1.55559265e+02],\n",
       "       [ 8.69622036e-02,  6.85604981e-01,  1.95951168e+02,\n",
       "         1.58596193e+02, -1.48827427e+02],\n",
       "       [ 8.45312136e-02,  6.79908669e-01,  1.93576096e+02,\n",
       "         1.81359806e+02, -1.42091991e+02],\n",
       "       [ 8.21382527e-02,  6.73439576e-01,  1.91117903e+02,\n",
       "         2.05926664e+02, -1.35365236e+02],\n",
       "       [ 7.97840653e-02,  6.66144243e-01,  1.88581619e+02,\n",
       "         2.32194674e+02, -1.28660185e+02],\n",
       "       [ 7.74693405e-02,  6.57973831e-01,  1.85972282e+02,\n",
       "         2.60017763e+02, -1.21990566e+02],\n",
       "       [ 7.51946853e-02,  6.48885543e-01,  1.83294910e+02,\n",
       "         2.89205296e+02, -1.15370699e+02],\n",
       "       [ 7.29606521e-02,  6.38844032e-01,  1.80554544e+02,\n",
       "         3.19522778e+02, -1.08815411e+02],\n",
       "       [ 7.07677121e-02,  6.27822736e-01,  1.77756150e+02,\n",
       "         3.50694057e+02, -1.02339899e+02],\n",
       "       [ 6.86162848e-02,  6.15804954e-01,  1.74904716e+02,\n",
       "         3.82404536e+02, -9.59595919e+01],\n",
       "       [ 6.65067186e-02,  6.02785075e-01,  1.72005117e+02,\n",
       "         4.14306823e+02, -8.96899929e+01],\n",
       "       [ 6.44393004e-02,  5.88769251e-01,  1.69062235e+02,\n",
       "         4.46026247e+02, -8.35465136e+01],\n",
       "       [ 6.24142547e-02,  5.73776116e-01,  1.66080816e+02,\n",
       "         4.77168970e+02, -7.75443001e+01],\n",
       "       [ 6.04317529e-02,  5.57837062e-01,  1.63065580e+02,\n",
       "         5.07329824e+02, -7.16980534e+01],\n",
       "       [ 5.84919001e-02,  5.40996347e-01,  1.60021124e+02,\n",
       "         5.36101920e+02, -6.60218401e+01],\n",
       "       [ 5.65947530e-02,  5.23310759e-01,  1.56951986e+02,\n",
       "         5.63085577e+02, -6.05289297e+01],\n",
       "       [ 5.47403100e-02,  5.04849174e-01,  1.53862561e+02,\n",
       "         5.87898284e+02, -5.52316160e+01],\n",
       "       [ 5.29285204e-02,  4.85691584e-01,  1.50757159e+02,\n",
       "         6.10183695e+02, -5.01410589e+01],\n",
       "       [ 5.11592810e-02,  4.65928137e-01,  1.47639953e+02,\n",
       "         6.29620505e+02, -4.52671556e+01],\n",
       "       [ 4.94324446e-02,  4.45657624e-01,  1.44515018e+02,\n",
       "         6.45930108e+02, -4.06184015e+01],\n",
       "       [ 4.77478136e-02,  4.24986004e-01,  1.41386290e+02,\n",
       "         6.58883282e+02, -3.62018056e+01],\n",
       "       [ 4.61051519e-02,  4.04024639e-01,  1.38257577e+02,\n",
       "         6.68305690e+02, -3.20228086e+01],\n",
       "       [ 4.45041799e-02,  3.82888431e-01,  1.35132549e+02,\n",
       "         6.74081333e+02, -2.80852327e+01],\n",
       "       [ 4.29445731e-02,  3.61693907e-01,  1.32014735e+02,\n",
       "         6.76154843e+02, -2.43912625e+01],\n",
       "       [ 4.14259762e-02,  3.40557306e-01,  1.28907513e+02,\n",
       "         6.74531896e+02, -2.09414482e+01],\n",
       "       [ 3.99479954e-02,  3.19592709e-01,  1.25814153e+02,\n",
       "         6.69278007e+02, -1.77347374e+01],\n",
       "       [ 3.85102090e-02,  2.98910187e-01,  1.22737756e+02,\n",
       "         6.60515681e+02, -1.47685275e+01],\n",
       "       [ 3.71121606e-02,  2.78614211e-01,  1.19681261e+02,\n",
       "         6.48420253e+02, -1.20387521e+01],\n",
       "       [ 3.57533585e-02,  2.58802116e-01,  1.16647485e+02,\n",
       "         6.33214406e+02, -9.53997159e+00],\n",
       "       [ 3.44332956e-02,  2.39562861e-01,  1.13639091e+02,\n",
       "         6.15161683e+02, -7.26549697e+00],\n",
       "       [ 3.31514351e-02,  2.20975969e-01,  1.10658604e+02,\n",
       "         5.94559230e+02, -5.20751977e+00],\n",
       "       [ 3.19072100e-02,  2.03110727e-01,  1.07708377e+02,\n",
       "         5.71730130e+02, -3.35725403e+00],\n",
       "       [ 3.07000421e-02,  1.86025644e-01,  1.04790643e+02,\n",
       "         5.47015258e+02, -1.70508552e+00],\n",
       "       [ 2.95293322e-02,  1.69768166e-01,  1.01907489e+02,\n",
       "         5.20765541e+02, -2.40727901e-01],\n",
       "       [ 2.83944581e-02,  1.54374583e-01,  9.90608377e+01,\n",
       "         4.93334029e+02,  1.04662371e+00],\n",
       "       [ 2.72947891e-02,  1.39870267e-01,  9.62525029e+01,\n",
       "         4.65068858e+02,  2.16814184e+00],\n",
       "       [ 2.62296789e-02,  1.26270015e-01,  9.34841444e+01,\n",
       "         4.36306587e+02,  3.13521862e+00],\n",
       "       [ 2.51984628e-02,  1.13578598e-01,  9.07572799e+01,\n",
       "         4.07366468e+02,  3.95932865e+00],\n",
       "       [ 2.42004740e-02,  1.01791490e-01,  8.80733134e+01,\n",
       "         3.78545529e+02,  4.65189922e+00],\n",
       "       [ 2.32350351e-02,  9.08957319e-02,  8.54335103e+01,\n",
       "         3.50114702e+02,  5.22419548e+00],\n",
       "       [ 2.23014547e-02,  8.08707828e-02,  8.28389964e+01,\n",
       "         3.22315925e+02,  5.68721497e+00],\n",
       "       [ 2.05271052e-02,  6.33194923e-02,  7.77898287e+01,\n",
       "         2.69426144e+02,  6.32755232e+00],\n",
       "       [ 1.65999392e-02,  3.22312652e-02,  6.60167994e+01,\n",
       "         1.59148088e+02,  6.70117581e+00],\n",
       "       [ 1.33295784e-02,  1.49944964e-02,  5.54974854e+01,\n",
       "         8.44006074e+01,  6.07426560e+00],\n",
       "       [ 1.06307165e-02,  6.38574858e-03,  4.62344696e+01,\n",
       "         4.03833967e+01,  5.08114338e+00],\n",
       "       [ 8.42264381e-03,  2.49472405e-03,  3.81864280e+01,\n",
       "         1.75135552e+01,  4.06126654e+00],\n",
       "       [ 6.63095140e-03,  8.96174670e-04,  3.12802745e+01,\n",
       "         6.91423224e+00,  3.16099834e+00],\n",
       "       [ 4.03599891e-03,  9.08353370e-05,  2.05058422e+01,\n",
       "         8.26206364e-01,  1.83657523e+00],\n",
       "       [ 2.40135209e-03,  6.79088620e-06,  1.30607456e+01,\n",
       "         7.10110143e-02,  1.03609265e+00],\n",
       "       [ 1.39899603e-03,  3.82407211e-07,  8.10231628e+00,\n",
       "         4.51030023e-03,  5.73319865e-01]])\n",
       "     message: '`ftol` termination condition is satisfied.'\n",
       "        nfev: 20\n",
       "        njev: 19\n",
       "  optimality: 0.08760118464464586\n",
       "      status: 2\n",
       "     success: True\n",
       "           x: array([2.83276418e+03, 3.25942141e+03, 1.85769664e-01, 6.00749496e-02,\n",
       "       2.76324822e-01])"
      ]
     },
     "execution_count": 8,
     "metadata": {},
     "output_type": "execute_result"
    }
   ],
   "source": [
    "fitter.fit(x0)"
   ]
  },
  {
   "cell_type": "code",
   "execution_count": 9,
   "metadata": {},
   "outputs": [],
   "source": [
    "x_final = fitter.fit(x0).x"
   ]
  },
  {
   "cell_type": "markdown",
   "metadata": {},
   "source": [
    "#### Step 5 : Print the result of the optimization"
   ]
  },
  {
   "cell_type": "code",
   "execution_count": 10,
   "metadata": {},
   "outputs": [
    {
     "data": {
      "text/plain": [
       "array([2.83276418e+03, 3.25942141e+03, 1.85769664e-01, 6.00749496e-02,\n",
       "       2.76324822e-01])"
      ]
     },
     "execution_count": 10,
     "metadata": {},
     "output_type": "execute_result"
    }
   ],
   "source": [
    "x_final"
   ]
  },
  {
   "cell_type": "markdown",
   "metadata": {},
   "source": [
    "#### Step 6 : Examine the result of the optimization"
   ]
  },
  {
   "cell_type": "code",
   "execution_count": 11,
   "metadata": {},
   "outputs": [],
   "source": [
    "Option_final = Option(x_final[0], x_final[1], x_final[2], x_final[3], x_final[4], 0.02, 0.5)"
   ]
  },
  {
   "cell_type": "code",
   "execution_count": 12,
   "metadata": {},
   "outputs": [],
   "source": [
    "price_list = []\n",
    "for k in np.array(data['strike']):\n",
    "    price_list.append(Option_final.theoritical_price(k))"
   ]
  },
  {
   "cell_type": "code",
   "execution_count": 13,
   "metadata": {
    "scrolled": true
   },
   "outputs": [
    {
     "data": {
      "image/png": "[encoded data removed]",
      "text/plain": [
       "<Figure size 432x288 with 1 Axes>"
      ]
     },
     "metadata": {
      "needs_background": "light"
     },
     "output_type": "display_data"
    }
   ],
   "source": [
    "fig, ax = plt.subplots()\n",
    "ax.plot(np.arange(0, len(price_list), 1), price_list, marker = 'o', color = 'b')\n",
    "ax.plot(np.arange(0, len(price_list), 1), np.array(data['price']), marker = 'v', color = 'r')\n",
    "plt.show()"
   ]
  },
  {
   "cell_type": "markdown",
   "metadata": {},
   "source": [
    "### Part 2 : Draw the implied distribution graph"
   ]
  },
  {
   "cell_type": "markdown",
   "metadata": {},
   "source": [
    "#### Method 1 : Numerical method"
   ]
  },
  {
   "cell_type": "code",
   "execution_count": 14,
   "metadata": {},
   "outputs": [],
   "source": [
    "def compute_pdf(x, k):\n",
    "    opt = Option(x[0], x[1], x[2], x[3], x[4], 0.02, 0.5)\n",
    "    thre_value = opt.theoritical_price(k)\n",
    "    thre_value_1 = opt.theoritical_price(k + 0.01)\n",
    "    thre_value_2 = opt.theoritical_price(k - 0.01)\n",
    "    return (thre_value_1 + thre_value_2 - 2*thre_value)/(0.01*0.01)"
   ]
  },
  {
   "cell_type": "code",
   "execution_count": 15,
   "metadata": {},
   "outputs": [],
   "source": [
    "pdf_list = []\n",
    "for i in np.arange(1500, 4000, 10):\n",
    "    pdf_list.append(compute_pdf(x_final, i))"
   ]
  },
  {
   "cell_type": "code",
   "execution_count": 16,
   "metadata": {
    "scrolled": true
   },
   "outputs": [
    {
     "data": {
      "image/png": "[encoded data removed]",
      "text/plain": [
       "<Figure size 432x288 with 1 Axes>"
      ]
     },
     "metadata": {
      "needs_background": "light"
     },
     "output_type": "display_data"
    }
   ],
   "source": [
    "fig, ax = plt.subplots()\n",
    "ax.plot(np.arange(1500, 4000, 10), pdf_list, color = 'b')\n",
    "plt.show()"
   ]
  },
  {
   "cell_type": "markdown",
   "metadata": {},
   "source": [
    "#### Method 2 : Analytical method"
   ]
  },
  {
   "cell_type": "code",
   "execution_count": 17,
   "metadata": {},
   "outputs": [],
   "source": [
    "pdf_list_2 = []\n",
    "for i in range(1500, 4000, 10):\n",
    "    pdf_list_2.append(Option_final.deriv_the_k(i))"
   ]
  },
  {
   "cell_type": "code",
   "execution_count": 18,
   "metadata": {},
   "outputs": [
    {
     "data": {
      "image/png": "[encoded data removed]",
      "text/plain": [
       "<Figure size 432x288 with 1 Axes>"
      ]
     },
     "metadata": {
      "needs_background": "light"
     },
     "output_type": "display_data"
    }
   ],
   "source": [
    "fig, ax = plt.subplots()\n",
    "ax.plot(np.arange(1500, 4000, 10), pdf_list_2, color = 'b')\n",
    "plt.show()"
   ]
  },
  {
   "cell_type": "markdown",
   "metadata": {},
   "source": [
    "### Part 3 : Implied Volatility"
   ]
  },
  {
   "cell_type": "markdown",
   "metadata": {},
   "source": [
    "#### Step 1 : BS formula"
   ]
  },
  {
   "cell_type": "code",
   "execution_count": 19,
   "metadata": {},
   "outputs": [],
   "source": [
    "def BS(r, T, S0, sigma, K):\n",
    "    d1 = (np.log(S0/K) + 0.5*pow(sigma, 2)*T)/(sigma*np.sqrt(T))\n",
    "    d2 = d1 - sigma*np.sqrt(T)\n",
    "    N_d1 = norm.cdf(d1)\n",
    "    N_d2 = norm.cdf(d2)\n",
    "    return S0*N_d1 - K*np.exp(-r*T)*N_d2"
   ]
  },
  {
   "cell_type": "markdown",
   "metadata": {},
   "source": [
    "#### Step 2 : Find the implied volatility"
   ]
  },
  {
   "cell_type": "code",
   "execution_count": 20,
   "metadata": {},
   "outputs": [],
   "source": [
    "def find_root(r, T, S0, K, true_value):\n",
    "    a = 0.00001\n",
    "    b = 1\n",
    "    diff_1 = true_value - BS(r, T, S0, a, K)\n",
    "    diff_2 = true_value - BS(r, T, S0, b, K)\n",
    "    while abs(diff_1) > 10e-7:\n",
    "        diff = true_value - BS(r, T, S0, (a+b)/2, K)\n",
    "        if diff*diff_1 > 0:\n",
    "            a = (a+b)/2\n",
    "        else :\n",
    "            b = (a+b)/2\n",
    "        diff_1 = true_value - BS(r, T, S0, a, K)\n",
    "        diff_2 = true_value - BS(r, T, S0, b, K)\n",
    "        \n",
    "    return (a+b)/2 "
   ]
  },
  {
   "cell_type": "markdown",
   "metadata": {},
   "source": [
    "#### Step 3 : draw the implied volatility graph"
   ]
  },
  {
   "cell_type": "code",
   "execution_count": 21,
   "metadata": {},
   "outputs": [],
   "source": [
    "implied_vol = []\n",
    "for i in range(data.shape[0]):\n",
    "    implied_vol.append(find_root(0.02, 0.5, 3100, data.iloc[i, 0],data.iloc[i, 2]))"
   ]
  },
  {
   "cell_type": "code",
   "execution_count": 22,
   "metadata": {},
   "outputs": [
    {
     "data": {
      "image/png": "[encoded data removed]",
      "text/plain": [
       "<Figure size 432x288 with 1 Axes>"
      ]
     },
     "metadata": {
      "needs_background": "light"
     },
     "output_type": "display_data"
    }
   ],
   "source": [
    "plt.plot(np.array(data['strike']), np.array(implied_vol))\n",
    "plt.show()"
   ]
  },
  {
   "cell_type": "code",
   "execution_count": null,
   "metadata": {},
   "outputs": [],
   "source": []
  }
 ],
 "metadata": {
  "kernelspec": {
   "display_name": "Python 3",
   "language": "python",
   "name": "python3"
  },
  "language_info": {
   "codemirror_mode": {
    "name": "ipython",
    "version": 3
   },
   "file_extension": ".py",
   "mimetype": "text/x-python",
   "name": "python",
   "nbconvert_exporter": "python",
   "pygments_lexer": "ipython3",
   "version": "3.7.3"
  }
 },
 "nbformat": 4,
 "nbformat_minor": 2
}
