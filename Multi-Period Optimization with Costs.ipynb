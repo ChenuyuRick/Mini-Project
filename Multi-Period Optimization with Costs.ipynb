{
 "cells": [
  {
   "cell_type": "markdown",
   "metadata": {},
   "source": [
    "# Multi-Period Optimization with Costs"
   ]
  },
  {
   "cell_type": "code",
   "execution_count": 1,
   "metadata": {},
   "outputs": [],
   "source": [
    "import pandas as pd\n",
    "import numpy as np\n",
    "import matplotlib.pyplot as plt\n",
    "import math\n",
    "import time\n",
    "import seaborn as sns"
   ]
  },
  {
   "cell_type": "markdown",
   "metadata": {},
   "source": [
    "## Part 1 : Preparation"
   ]
  },
  {
   "cell_type": "markdown",
   "metadata": {},
   "source": [
    "### Define Expected Return\n",
    "Consider optimally trading a single stock over T = 30 days. Each period is one day, and you can trade once per day. The stock's daily return volatility is $\\sigma$. Suppose your forecast is 50 basis points for the first period, and decays exponentially with half-life 5 days. This means that:\n",
    "$$\n",
    "\\alpha_t = E[r_{t,t+1}]=50\\times10^{-4}\\times2^{-t/5}\n",
    "$$"
   ]
  },
  {
   "cell_type": "code",
   "execution_count": 2,
   "metadata": {},
   "outputs": [],
   "source": [
    "def generate_trajectory(T, HL, initial_strength):\n",
    "    ret = []\n",
    "    for i in range(T):\n",
    "        ret.append(initial_strength*pow(10,-4)*pow(2,(-i-1)/HL))\n",
    "    growth = np.array(ret) + np.ones(len(ret))\n",
    "    growth = 40*growth.cumprod()\n",
    "    return ret, growth"
   ]
  },
  {
   "cell_type": "code",
   "execution_count": 3,
   "metadata": {},
   "outputs": [],
   "source": [
    "ret, growth = generate_trajectory(30,5, 50)"
   ]
  },
  {
   "cell_type": "code",
   "execution_count": 4,
   "metadata": {},
   "outputs": [
    {
     "data": {
      "text/plain": [
       "array([40.17411011, 40.32634152, 40.45936884, 40.57555787, 40.67699676,\n",
       "       40.76552522, 40.84276144, 40.91012688, 40.96886862, 41.02007971,\n",
       "       41.06471727, 41.10361882, 41.13751666, 41.16705079, 41.19278019,\n",
       "       41.21519294, 41.23471499, 41.25171797, 41.26652603, 41.27942181,\n",
       "       41.29065176, 41.30043065, 41.30894569, 41.31635999, 41.32281567,\n",
       "       41.32843655, 41.33333047, 41.33759138, 41.3413011 , 41.34453089])"
      ]
     },
     "execution_count": 4,
     "metadata": {},
     "output_type": "execute_result"
    }
   ],
   "source": [
    "growth"
   ]
  },
  {
   "cell_type": "code",
   "execution_count": 5,
   "metadata": {},
   "outputs": [
    {
     "data": {
      "text/plain": [
       "[0.004352752816480621,\n",
       " 0.003789291416275995,\n",
       " 0.0032987697769322356,\n",
       " 0.0028717458874925874,\n",
       " 0.0025,\n",
       " 0.0021763764082403103,\n",
       " 0.0018946457081379978,\n",
       " 0.0016493848884661178,\n",
       " 0.0014358729437462937,\n",
       " 0.00125,\n",
       " 0.001088188204120155,\n",
       " 0.0009473228540689989,\n",
       " 0.0008246924442330589,\n",
       " 0.000717936471873147,\n",
       " 0.000625,\n",
       " 0.0005440941020600775,\n",
       " 0.00047366142703449945,\n",
       " 0.00041234622211652945,\n",
       " 0.0003589682359365735,\n",
       " 0.0003125,\n",
       " 0.00027204705103003873,\n",
       " 0.00023683071351724965,\n",
       " 0.0002061731110582648,\n",
       " 0.00017948411796828674,\n",
       " 0.00015625,\n",
       " 0.00013602352551501937,\n",
       " 0.00011841535675862482,\n",
       " 0.0001030865555291324,\n",
       " 8.974205898414337e-05,\n",
       " 7.8125e-05]"
      ]
     },
     "execution_count": 5,
     "metadata": {},
     "output_type": "execute_result"
    }
   ],
   "source": [
    "ret"
   ]
  },
  {
   "cell_type": "markdown",
   "metadata": {},
   "source": [
    "### Define Cost Function\n",
    "Let c($\\delta $) be the cost in dollars, of trading $\\delta$ dollars of the stock. For selling, $\\delta<0$. Following Almgren, we assume that :\n",
    "$$\n",
    "c(\\delta)=PX(\\frac{\\gamma\\sigma}{2}\\frac{X}{V}(\\frac{\\Theta}{V})^{1/4}+sign(X)\\eta\\sigma\\lvert \\frac{X}{V} \\rvert^{\\beta}), X = \\delta/P\n",
    "$$"
   ]
  },
  {
   "cell_type": "markdown",
   "metadata": {},
   "source": [
    "In this case, we suppose $P = 40 , V = 2\\times10^6, \\Theta = 2\\times10^8, \\sigma = 0.02, \\gamma = 0.314, \\eta = 0.142, \\beta = 0.6$"
   ]
  },
  {
   "cell_type": "code",
   "execution_count": 6,
   "metadata": {},
   "outputs": [],
   "source": [
    "def trading_cost(X, P, V=2*pow(10,6), Theta=2*pow(10,8), sigma = 0.02, gamma=0.314, eta=0.142, beta=0.6):\n",
    "    c = pow(X,2)*(gamma*sigma/2/P/V*pow(Theta/V,0.25)) + X*np.sign(X)*eta*sigma*pow(abs(X/P/V),beta)\n",
    "    return c"
   ]
  },
  {
   "cell_type": "code",
   "execution_count": 7,
   "metadata": {},
   "outputs": [],
   "source": [
    "def trading_cost_deriv(X, P, V=2*pow(10,6), Theta=2*pow(10,8), sigma = 0.02, gamma=0.314, eta=0.142, beta=0.6):\n",
    "    deriv = gamma*sigma/V/P*pow(Theta/V, 0.25)*X + eta*sigma/P/pow(V,beta)*(beta+1)*pow(abs(X),beta)\n",
    "    return deriv"
   ]
  },
  {
   "cell_type": "markdown",
   "metadata": {},
   "source": [
    "### Define P&L Function of all periods"
   ]
  },
  {
   "cell_type": "markdown",
   "metadata": {},
   "source": [
    "For a trading path $x=(x_0, x_1,...,x_T)$ where $x_t$ denotes dollar holdings of the stock at time t, define the profit (also in dollars) as\n",
    "$$\n",
    "\\pi(x)=\\sum_{t=1}^{t}[x_tr_{t,t+1}-c(x_t - x_{t-1})]\n",
    "$$\n",
    "We want to find the sequence of positions $x_1,x_2, x_3,...,x_T$ that maximizes\n",
    "$$\n",
    "u(x_1,...,x_T)=\\sum_{t=1}^{T}[x_t\\alpha_t - \\frac{\\kappa}{2}\\sigma^2x_{t}^2-c(x_t - x_{t-1})]\n",
    "$$"
   ]
  },
  {
   "cell_type": "code",
   "execution_count": 8,
   "metadata": {},
   "outputs": [],
   "source": [
    "def utility(alpha, price, x_now, x_pre, sigma = 0.02, kappa = pow(10,-7)):\n",
    "    U = x_now*alpha - kappa/2*pow(sigma,2)*pow(x_now,2) - trading_cost(x_now - x_pre, price, sigma= sigma)\n",
    "    return U"
   ]
  },
  {
   "cell_type": "code",
   "execution_count": 9,
   "metadata": {},
   "outputs": [],
   "source": [
    "def utility_deriv(alpha, price, x_now, x_pre, sigma = 0.02, kappa = pow(10,-7)):\n",
    "    deriv = alpha - kappa*pow(sigma,2)*x_now - trading_cost_deriv(x_now - x_pre, price)\n",
    "    return deriv"
   ]
  },
  {
   "cell_type": "code",
   "execution_count": 10,
   "metadata": {},
   "outputs": [],
   "source": [
    "def utility_sum(x_array, alpha_list, price_list, sigma=0.02, kappa=pow(10, -7)):\n",
    "    ut_list = []\n",
    "    for i in range(len(x_array) - 1):\n",
    "        ut_list.append(utility(alpha = alpha_list[i], price = price_list[i], x_now = x_array[i+1], x_pre = x_array[i], sigma = sigma, kappa = kappa))\n",
    "    return np.array(ut_list).sum()"
   ]
  },
  {
   "cell_type": "markdown",
   "metadata": {},
   "source": [
    "### define profit"
   ]
  },
  {
   "cell_type": "code",
   "execution_count": 11,
   "metadata": {},
   "outputs": [],
   "source": [
    "def profit(alpha, price, x_now, x_pre, sigma = 0.02):\n",
    "    pro = x_now*alpha  - trading_cost(x_now - x_pre, price, sigma = sigma)\n",
    "    return pro"
   ]
  },
  {
   "cell_type": "code",
   "execution_count": 12,
   "metadata": {},
   "outputs": [],
   "source": [
    "def profit_sum(x_array, alpha_list, price_list, sigma = 0.02):\n",
    "    pro_list = []\n",
    "    for i in range(len(x_array) - 1):\n",
    "        pro_list.append(profit(alpha = alpha_list[i], price = price_list[i], x_now = x_array[i+1], x_pre = x_array[i], sigma = sigma))\n",
    "    return np.array(pro_list).sum()"
   ]
  },
  {
   "cell_type": "markdown",
   "metadata": {},
   "source": [
    "## Part 2 : Maximize Utility"
   ]
  },
  {
   "cell_type": "markdown",
   "metadata": {},
   "source": [
    "### Method 1 : Gradient Descent"
   ]
  },
  {
   "cell_type": "code",
   "execution_count": 13,
   "metadata": {},
   "outputs": [],
   "source": [
    "### Method 1\n",
    "def coordinate_gradient_descent(T,learning_rate=pow(10,8), epoch=500, threshold_1 = pow(10,0), threshold_2 = pow(10,-2)):\n",
    "    ### Get ret and price\n",
    "    ret, price = generate_trajectory(T, 5, 50)\n",
    "    \n",
    "    ### Initialize X_vector\n",
    "    #x_vector = np.random.randint(low = 1, high = 100, size = T)\n",
    "    x_vector = np.ones(T)*pow(10, 6)\n",
    "    x_vector = np.append(0, x_vector)\n",
    "    \n",
    "    ### Initialize utility list\n",
    "    U_list = []\n",
    "    U_list.append(utility_sum(x_vector, ret, price))\n",
    "    diff_whole = 100\n",
    "    time = 1\n",
    "    ### For whole trajectory\n",
    "    while time < epoch and abs(diff_whole) > threshold_1:\n",
    "        ### Gradient Descent for each coordinate\n",
    "        for i in range(T):\n",
    "            ### Initialize diff\n",
    "            diff = 100\n",
    "            iterator = 1\n",
    "            ### Set threshold for error\n",
    "            while abs(diff) > threshold_2:\n",
    "                ### Compute previous Utility\n",
    "                U_pre = utility(alpha = ret[i], price = price[i], x_now = x_vector[i+1], x_pre = x_vector[i])\n",
    "                ### Gradient Descent for one time\n",
    "                x_vector[i+1] = x_vector[i+1] + learning_rate/(10*iterator)*utility_deriv(alpha= ret[i], price = price[i], x_now=x_vector[i+1], x_pre=x_vector[i])\n",
    "                ### Compute new Utility\n",
    "                U_new = utility(alpha = ret[i], price = price[i], x_now = x_vector[i+1], x_pre = x_vector[i])\n",
    "                ### Compute difference\n",
    "                diff = U_new - U_pre\n",
    "                iterator = iterator + 1\n",
    "        \n",
    "        U_list.append(utility_sum(x_vector, ret, price))\n",
    "        ### Compute whole Utility diff\n",
    "        diff_whole = U_list[time] - U_list[time-1]\n",
    "        time = time + 1\n",
    "        \n",
    "    \n",
    "    return x_vector, U_list     "
   ]
  },
  {
   "cell_type": "code",
   "execution_count": 14,
   "metadata": {},
   "outputs": [
    {
     "name": "stdout",
     "output_type": "stream",
     "text": [
      "Computation time :  96.17976093292236\n"
     ]
    }
   ],
   "source": [
    "start = time.time()\n",
    "x_vecter_test, U_list = coordinate_gradient_descent(30)\n",
    "end = time.time()\n",
    "print('Computation time : ', end - start)"
   ]
  },
  {
   "cell_type": "code",
   "execution_count": 15,
   "metadata": {},
   "outputs": [
    {
     "data": {
      "text/plain": [
       "array([       0.        , 13876374.14476199, 24040001.5411758 ,\n",
       "       30984329.61192445, 34351167.26753274, 36501648.44984663,\n",
       "       37685022.74564239, 37985459.09972977, 37252201.48680983,\n",
       "       35516463.83778121, 33051485.31902787, 30109106.57659036,\n",
       "       26916803.72216336, 23668638.26205732, 20519206.9665508 ,\n",
       "       17580514.99546515, 14922658.84755487, 12578193.29323603,\n",
       "       10549892.14051111,  8820092.74218546,  7359766.32121311,\n",
       "        6135553.24340084,  5114407.66379507,  4266021.03539974,\n",
       "        3563827.05202156,  2984969.3944236 ,  2510139.20966772,\n",
       "        2123125.797204  ,  1810251.2966592 ,  1560391.24561072,\n",
       "        1364492.71804042])"
      ]
     },
     "execution_count": 15,
     "metadata": {},
     "output_type": "execute_result"
    }
   ],
   "source": [
    "x_vecter_test"
   ]
  },
  {
   "cell_type": "code",
   "execution_count": 16,
   "metadata": {},
   "outputs": [
    {
     "data": {
      "text/plain": [
       "498798.37981460604"
      ]
     },
     "execution_count": 16,
     "metadata": {},
     "output_type": "execute_result"
    }
   ],
   "source": [
    "np.array(U_list).max()"
   ]
  },
  {
   "cell_type": "code",
   "execution_count": 17,
   "metadata": {},
   "outputs": [
    {
     "data": {
      "text/plain": [
       "<matplotlib.axes._subplots.AxesSubplot at 0x1a1ed0d5c0>"
      ]
     },
     "execution_count": 17,
     "metadata": {},
     "output_type": "execute_result"
    },
    {
     "data": {
      "image/png": "[encoded data removed]",
      "text/plain": [
       "<Figure size 432x288 with 1 Axes>"
      ]
     },
     "metadata": {
      "needs_background": "light"
     },
     "output_type": "display_data"
    }
   ],
   "source": [
    "pd.DataFrame(x_vecter_test).plot()"
   ]
  },
  {
   "cell_type": "markdown",
   "metadata": {},
   "source": [
    "### Why we don't use method 1?\n",
    "Firstly, it's not a converge algorithm. We can only set the tolerance as the difference between the previous utility and new utility. We cannot guarantee that it falls into the global maximum point.\n",
    "\n",
    "Secondly, it cannot take following path into consideration due to the difficulty to solve the analytical equation of the derivative of the sum utility function.(lots of iteration)\n",
    "\n",
    "Thirdly, the speed of this algorithm is so low and the result is highly depend on parameters learning rate and the learning rate decay. I have tried lots of combinations, the result is still not stable and I can always find a better result by manipulate these two parameters."
   ]
  },
  {
   "cell_type": "markdown",
   "metadata": {},
   "source": [
    "### Method 2 : Golden-Section Search"
   ]
  },
  {
   "cell_type": "code",
   "execution_count": 18,
   "metadata": {},
   "outputs": [],
   "source": [
    "### Method 2 \n",
    "invphi = (math.sqrt(5) - 1) / 2 # 1/phi                                                                                                                     \n",
    "invphi2 = (3 - math.sqrt(5)) / 2 # 1/phi^2                                                                                                                  \n",
    "\n",
    "def gss(t, a, b, kappa, x_array, alpha_list, price_list, sigma, tol=1):\n",
    "    ### Set interval\n",
    "    (a,b)=(min(a,b),max(a,b))\n",
    "    ### H is the length of the interval\n",
    "    h = b - a\n",
    "    ### Return when h is smaller than our tolerance\n",
    "    if h <= tol: return (a+b)/2\n",
    "\n",
    "    # required steps to achieve tolerance                                                                                                                   \n",
    "    n = int(math.ceil(math.log(tol/h)/math.log(invphi)))\n",
    "\n",
    "    c = a + invphi2 * h\n",
    "    d = a + invphi * h\n",
    "    \n",
    "    x_array[t+1] = c\n",
    "    yc = -utility_sum(x_array = x_array, alpha_list = alpha_list, price_list = price_list, sigma = sigma, kappa = kappa)\n",
    "    x_array[t+1] = d\n",
    "    yd = -utility_sum(x_array = x_array, alpha_list = alpha_list, price_list = price_list, sigma = sigma, kappa = kappa)\n",
    "\n",
    "    for k in range(n-1):\n",
    "        if yc < yd:\n",
    "            b = d\n",
    "            d = c\n",
    "            yd = yc\n",
    "            h = invphi*h\n",
    "            c = a + invphi2 * h\n",
    "            x_array[t+1] = c\n",
    "            yc = -utility_sum(x_array = x_array, alpha_list = alpha_list, price_list = price_list, sigma = sigma, kappa = kappa)\n",
    "        else:\n",
    "            a = c\n",
    "            c = d\n",
    "            yc = yd\n",
    "            h = invphi*h\n",
    "            d = a + invphi * h\n",
    "            x_array[t+1] = d\n",
    "            yd = -utility_sum(x_array = x_array, alpha_list = alpha_list, price_list = price_list, sigma = sigma, kappa = kappa)\n",
    "\n",
    "    if yc < yd:\n",
    "        return (a + d)/2\n",
    "    else:\n",
    "        return (c + b)/2"
   ]
  },
  {
   "cell_type": "code",
   "execution_count": 19,
   "metadata": {},
   "outputs": [],
   "source": [
    "def coordinate_golden_section(T, kappa, sigma, HL, initial_strength, tol=0.5):\n",
    "    ### Get ret and price\n",
    "    ret, price = generate_trajectory(T, HL, initial_strength)\n",
    "    ### Initial x vector\n",
    "    x_vector = np.ones(T)\n",
    "    x_vector = np.append(0, x_vector)\n",
    "    ### Optimize each x \n",
    "    U_list = []\n",
    "    diff_whole = 100\n",
    "    U_list.append(utility_sum(x_vector, ret, price, sigma, kappa))\n",
    "    time = 0\n",
    "    while abs(diff_whole) > tol: \n",
    "        for i in range(T):\n",
    "            x_vector[i+1] = gss(t=i, a=-2*pow(10, 6)*price[i], b=2*pow(10, 6)*price[i], kappa=kappa, x_array=x_vector, alpha_list=ret, price_list=price, sigma=sigma)\n",
    "        U_list.append(utility_sum(x_vector, ret, price, sigma, kappa))\n",
    "        time = time + 1\n",
    "        diff_whole = U_list[time] - U_list[time-1]\n",
    "        \n",
    "    \n",
    "    return x_vector, utility_sum(x_vector, ret, price, sigma, kappa)"
   ]
  },
  {
   "cell_type": "code",
   "execution_count": 20,
   "metadata": {},
   "outputs": [
    {
     "name": "stdout",
     "output_type": "stream",
     "text": [
      "Computation time :  10.280411958694458\n"
     ]
    }
   ],
   "source": [
    "start = time.time()\n",
    "x_vecter_test_2, U = coordinate_golden_section(30, pow(10, -7), 0.02, 5, 50, tol=1)\n",
    "end = time.time()\n",
    "print('Computation time : ', end - start)"
   ]
  },
  {
   "cell_type": "code",
   "execution_count": 21,
   "metadata": {},
   "outputs": [
    {
     "data": {
      "text/html": [
       "<div>\n",
       "<style scoped>\n",
       "    .dataframe tbody tr th:only-of-type {\n",
       "        vertical-align: middle;\n",
       "    }\n",
       "\n",
       "    .dataframe tbody tr th {\n",
       "        vertical-align: top;\n",
       "    }\n",
       "\n",
       "    .dataframe thead th {\n",
       "        text-align: right;\n",
       "    }\n",
       "</style>\n",
       "<table border=\"1\" class=\"dataframe\">\n",
       "  <thead>\n",
       "    <tr style=\"text-align: right;\">\n",
       "      <th></th>\n",
       "      <th>Position</th>\n",
       "    </tr>\n",
       "  </thead>\n",
       "  <tbody>\n",
       "    <tr>\n",
       "      <th>0</th>\n",
       "      <td>0.000000e+00</td>\n",
       "    </tr>\n",
       "    <tr>\n",
       "      <th>1</th>\n",
       "      <td>2.418138e+07</td>\n",
       "    </tr>\n",
       "    <tr>\n",
       "      <th>2</th>\n",
       "      <td>3.744317e+07</td>\n",
       "    </tr>\n",
       "    <tr>\n",
       "      <th>3</th>\n",
       "      <td>4.370275e+07</td>\n",
       "    </tr>\n",
       "    <tr>\n",
       "      <th>4</th>\n",
       "      <td>4.566597e+07</td>\n",
       "    </tr>\n",
       "    <tr>\n",
       "      <th>5</th>\n",
       "      <td>4.561161e+07</td>\n",
       "    </tr>\n",
       "    <tr>\n",
       "      <th>6</th>\n",
       "      <td>4.420198e+07</td>\n",
       "    </tr>\n",
       "    <tr>\n",
       "      <th>7</th>\n",
       "      <td>4.176099e+07</td>\n",
       "    </tr>\n",
       "    <tr>\n",
       "      <th>8</th>\n",
       "      <td>3.872295e+07</td>\n",
       "    </tr>\n",
       "    <tr>\n",
       "      <th>9</th>\n",
       "      <td>3.541377e+07</td>\n",
       "    </tr>\n",
       "    <tr>\n",
       "      <th>10</th>\n",
       "      <td>3.205580e+07</td>\n",
       "    </tr>\n",
       "    <tr>\n",
       "      <th>11</th>\n",
       "      <td>2.879192e+07</td>\n",
       "    </tr>\n",
       "    <tr>\n",
       "      <th>12</th>\n",
       "      <td>2.570812e+07</td>\n",
       "    </tr>\n",
       "    <tr>\n",
       "      <th>13</th>\n",
       "      <td>2.285117e+07</td>\n",
       "    </tr>\n",
       "    <tr>\n",
       "      <th>14</th>\n",
       "      <td>2.024157e+07</td>\n",
       "    </tr>\n",
       "    <tr>\n",
       "      <th>15</th>\n",
       "      <td>1.788285e+07</td>\n",
       "    </tr>\n",
       "    <tr>\n",
       "      <th>16</th>\n",
       "      <td>1.576796e+07</td>\n",
       "    </tr>\n",
       "    <tr>\n",
       "      <th>17</th>\n",
       "      <td>1.388374e+07</td>\n",
       "    </tr>\n",
       "    <tr>\n",
       "      <th>18</th>\n",
       "      <td>1.221392e+07</td>\n",
       "    </tr>\n",
       "    <tr>\n",
       "      <th>19</th>\n",
       "      <td>1.074107e+07</td>\n",
       "    </tr>\n",
       "    <tr>\n",
       "      <th>20</th>\n",
       "      <td>9.448009e+06</td>\n",
       "    </tr>\n",
       "    <tr>\n",
       "      <th>21</th>\n",
       "      <td>8.318579e+06</td>\n",
       "    </tr>\n",
       "    <tr>\n",
       "      <th>22</th>\n",
       "      <td>7.338267e+06</td>\n",
       "    </tr>\n",
       "    <tr>\n",
       "      <th>23</th>\n",
       "      <td>6.494545e+06</td>\n",
       "    </tr>\n",
       "    <tr>\n",
       "      <th>24</th>\n",
       "      <td>5.777113e+06</td>\n",
       "    </tr>\n",
       "    <tr>\n",
       "      <th>25</th>\n",
       "      <td>5.178039e+06</td>\n",
       "    </tr>\n",
       "    <tr>\n",
       "      <th>26</th>\n",
       "      <td>4.691803e+06</td>\n",
       "    </tr>\n",
       "    <tr>\n",
       "      <th>27</th>\n",
       "      <td>4.315150e+06</td>\n",
       "    </tr>\n",
       "    <tr>\n",
       "      <th>28</th>\n",
       "      <td>4.046549e+06</td>\n",
       "    </tr>\n",
       "    <tr>\n",
       "      <th>29</th>\n",
       "      <td>3.884610e+06</td>\n",
       "    </tr>\n",
       "    <tr>\n",
       "      <th>30</th>\n",
       "      <td>3.823418e+06</td>\n",
       "    </tr>\n",
       "  </tbody>\n",
       "</table>\n",
       "</div>"
      ],
      "text/plain": [
       "        Position\n",
       "0   0.000000e+00\n",
       "1   2.418138e+07\n",
       "2   3.744317e+07\n",
       "3   4.370275e+07\n",
       "4   4.566597e+07\n",
       "5   4.561161e+07\n",
       "6   4.420198e+07\n",
       "7   4.176099e+07\n",
       "8   3.872295e+07\n",
       "9   3.541377e+07\n",
       "10  3.205580e+07\n",
       "11  2.879192e+07\n",
       "12  2.570812e+07\n",
       "13  2.285117e+07\n",
       "14  2.024157e+07\n",
       "15  1.788285e+07\n",
       "16  1.576796e+07\n",
       "17  1.388374e+07\n",
       "18  1.221392e+07\n",
       "19  1.074107e+07\n",
       "20  9.448009e+06\n",
       "21  8.318579e+06\n",
       "22  7.338267e+06\n",
       "23  6.494545e+06\n",
       "24  5.777113e+06\n",
       "25  5.178039e+06\n",
       "26  4.691803e+06\n",
       "27  4.315150e+06\n",
       "28  4.046549e+06\n",
       "29  3.884610e+06\n",
       "30  3.823418e+06"
      ]
     },
     "execution_count": 21,
     "metadata": {},
     "output_type": "execute_result"
    }
   ],
   "source": [
    "pd.DataFrame(x_vecter_test_2, columns = ['Position'])"
   ]
  },
  {
   "cell_type": "code",
   "execution_count": 22,
   "metadata": {},
   "outputs": [
    {
     "data": {
      "text/plain": [
       "539830.3667162191"
      ]
     },
     "execution_count": 22,
     "metadata": {},
     "output_type": "execute_result"
    }
   ],
   "source": [
    "U"
   ]
  },
  {
   "cell_type": "code",
   "execution_count": 23,
   "metadata": {},
   "outputs": [
    {
     "data": {
      "text/plain": [
       "<matplotlib.axes._subplots.AxesSubplot at 0x1a1f1b4b70>"
      ]
     },
     "execution_count": 23,
     "metadata": {},
     "output_type": "execute_result"
    },
    {
     "data": {
      "image/png": "[encoded data removed]",
      "text/plain": [
       "<Figure size 432x288 with 1 Axes>"
      ]
     },
     "metadata": {
      "needs_background": "light"
     },
     "output_type": "display_data"
    }
   ],
   "source": [
    "pd.DataFrame(x_vecter_test_2).plot()"
   ]
  },
  {
   "cell_type": "markdown",
   "metadata": {},
   "source": [
    "### Why we use method 2 ?\n",
    "Firstly, compare to method one, we don't need to solve the analytical equation, so it can take the following path into consideration. \n",
    "\n",
    "Secondly, the speed of this algorithm is much faster than method 1.\n",
    "\n",
    "Thirdly, the result is stable and we get a significant higher sum utility compared with method 1."
   ]
  },
  {
   "cell_type": "markdown",
   "metadata": {},
   "source": [
    "### Why this method converge?"
   ]
  },
  {
   "cell_type": "markdown",
   "metadata": {},
   "source": [
    "According to Tseng(2001), we can easily optimize\n",
    "$$\n",
    "f(x)=g(x)+\\sum_{i = 1}^{n}h_{i}(x_{i})\n",
    "$$\n",
    "with g convex, differentiable and each $h_i$ convex, by coordinate-wise optimization. In this case, at each stage, the function (except trading cost term) is a convex function. \n",
    "Tseng's results also suggest an algorithm called blockwise coordinate descent(BCD).\n",
    "Algorithm: Close an initial guess for x. Repeatedly iterate cyclically through i = 1, ..., N and perform the following optimization and update :\n",
    "$$\n",
    "x_i = argmin f(x_1, ..., x_{i-1}, w, x_{i+1},...x_{N})\n",
    "$$\n",
    "Tseng(2001) shows that for functions of the form above, any limit point of the BCD iteration is a minimizer of f. The order of cycling through coordinates is arbitrage; and we can use any scheme that visits each of {1,2,3,...,n} every M steps for fixed constant M. We can everywhere replace individual corrdinates with blocks of coordinates with blocks of coordinates. In this case, we can use each stage as a coordinate axis and run the algorithm over and over again and finally converage to a single path."
   ]
  },
  {
   "cell_type": "code",
   "execution_count": 24,
   "metadata": {},
   "outputs": [
    {
     "data": {
      "text/plain": [
       "927637.2194607937"
      ]
     },
     "execution_count": 24,
     "metadata": {},
     "output_type": "execute_result"
    }
   ],
   "source": [
    "profit_sum(x_vecter_test_2, ret, growth)"
   ]
  },
  {
   "cell_type": "markdown",
   "metadata": {},
   "source": [
    "## Part 3 : What will happen if we change kappa, half-life , initial strength and sigma?"
   ]
  },
  {
   "cell_type": "markdown",
   "metadata": {},
   "source": [
    "### Define sharpe ratio"
   ]
  },
  {
   "cell_type": "code",
   "execution_count": 25,
   "metadata": {},
   "outputs": [],
   "source": [
    "def sharpe_profit(x_array, alpha_list, price_list, sigma):\n",
    "    pro_list = []\n",
    "    for i in range(len(x_array) - 1):\n",
    "        pro_list.append(profit(alpha = alpha_list[i], price = price_list[i], x_now = x_array[i+1], x_pre = x_array[i], sigma = sigma))\n",
    "    pro = np.array(pro_list)\n",
    "    return np.sqrt(252)*pro.sum()/np.sqrt(x_array.T @ x_array * pow(sigma,2)), pro.sum()"
   ]
  },
  {
   "cell_type": "markdown",
   "metadata": {},
   "source": [
    "### Define funtion to change parameter and plot graph"
   ]
  },
  {
   "cell_type": "code",
   "execution_count": 26,
   "metadata": {},
   "outputs": [],
   "source": [
    "def plot(x_, profit_, sharpe_, x_label):\n",
    "    f, ax1 = plt.subplots()\n",
    "    ax1.grid(True)\n",
    "    ax1.set_ylabel('Expected Profit')\n",
    "    ax1.set_xlabel(x_label)\n",
    "    ax1.plot(x_, profit_, color = 'blue')\n",
    " \n",
    "    ax2 = ax1.twinx() \n",
    "    ax2.set_ylabel('Sharpe Ratio')\n",
    "    ax2.plot(x_, sharpe_, color = 'red')\n",
    " \n",
    "    plt.show()"
   ]
  },
  {
   "cell_type": "markdown",
   "metadata": {},
   "source": [
    "### Plot 1 : kappa"
   ]
  },
  {
   "cell_type": "code",
   "execution_count": 27,
   "metadata": {},
   "outputs": [],
   "source": [
    "x_kappa = [pow(10, -7)*i for i in range(10)]"
   ]
  },
  {
   "cell_type": "code",
   "execution_count": 28,
   "metadata": {},
   "outputs": [],
   "source": [
    "sharpe_list = []\n",
    "profit_list = []\n",
    "alpha_list, price_list = generate_trajectory(30, 5, 50)\n",
    "for kappa in x_kappa:\n",
    "    x_array, U = coordinate_golden_section(30,kappa,0.02, 5, 50)\n",
    "    sharpe_reuslt, profit_result = sharpe_profit(x_array, alpha_list, price_list, 0.02)\n",
    "    sharpe_list.append(sharpe_reuslt)\n",
    "    profit_list.append(profit_result)"
   ]
  },
  {
   "cell_type": "code",
   "execution_count": 29,
   "metadata": {},
   "outputs": [
    {
     "data": {
      "image/png": "[encoded data removed]",
      "text/plain": [
       "<Figure size 432x288 with 2 Axes>"
      ]
     },
     "metadata": {
      "needs_background": "light"
     },
     "output_type": "display_data"
    }
   ],
   "source": [
    "plot(x_kappa, profit_list, sharpe_list, 'Risk Aversion')"
   ]
  },
  {
   "cell_type": "markdown",
   "metadata": {},
   "source": [
    "### Plot 2 : Half-Life"
   ]
  },
  {
   "cell_type": "code",
   "execution_count": 30,
   "metadata": {},
   "outputs": [],
   "source": [
    "x_HL = [i+1 for i in range(10)]"
   ]
  },
  {
   "cell_type": "code",
   "execution_count": 31,
   "metadata": {},
   "outputs": [],
   "source": [
    "sharpe_list = []\n",
    "profit_list = []\n",
    "for HL in x_HL:\n",
    "    alpha_list, price_list = generate_trajectory(30, HL, 50)\n",
    "    x_array, U = coordinate_golden_section(30,pow(10, -7),0.02, HL, 50)\n",
    "    sharpe_reuslt, profit_result = sharpe_profit(x_array, alpha_list, price_list, 0.02)\n",
    "    sharpe_list.append(sharpe_reuslt)\n",
    "    profit_list.append(profit_result)"
   ]
  },
  {
   "cell_type": "code",
   "execution_count": 32,
   "metadata": {},
   "outputs": [
    {
     "data": {
      "image/png": "[encoded data removed]",
      "text/plain": [
       "<Figure size 432x288 with 2 Axes>"
      ]
     },
     "metadata": {
      "needs_background": "light"
     },
     "output_type": "display_data"
    }
   ],
   "source": [
    "plot(x_HL, profit_list, sharpe_list, 'Half Life')"
   ]
  },
  {
   "cell_type": "markdown",
   "metadata": {},
   "source": [
    "### Plot 3 : Initial Strength"
   ]
  },
  {
   "cell_type": "code",
   "execution_count": 33,
   "metadata": {},
   "outputs": [],
   "source": [
    "x_IS = [20*i for i in np.arange(-10, 11, 1)]"
   ]
  },
  {
   "cell_type": "code",
   "execution_count": 34,
   "metadata": {},
   "outputs": [],
   "source": [
    "sharpe_list = []\n",
    "profit_list = []\n",
    "for IS in x_IS:\n",
    "    alpha_list, price_list = generate_trajectory(30, 5, IS)\n",
    "    x_array, U = coordinate_golden_section(30,pow(10, -7),0.02, 5, IS)\n",
    "    sharpe_reuslt, profit_result = sharpe_profit(x_array, alpha_list, price_list, 0.02)\n",
    "    sharpe_list.append(sharpe_reuslt)\n",
    "    profit_list.append(profit_result)"
   ]
  },
  {
   "cell_type": "code",
   "execution_count": 35,
   "metadata": {},
   "outputs": [
    {
     "data": {
      "image/png": "[encoded data removed]",
      "text/plain": [
       "<Figure size 432x288 with 2 Axes>"
      ]
     },
     "metadata": {
      "needs_background": "light"
     },
     "output_type": "display_data"
    }
   ],
   "source": [
    "plot(x_IS, profit_list, sharpe_list, 'Initial Strength')"
   ]
  },
  {
   "cell_type": "markdown",
   "metadata": {},
   "source": [
    "### Plot 4 : Sigma"
   ]
  },
  {
   "cell_type": "code",
   "execution_count": 36,
   "metadata": {},
   "outputs": [],
   "source": [
    "x_sigma = [0.05*(i+1) for i in np.arange(0, 20, 1)]"
   ]
  },
  {
   "cell_type": "code",
   "execution_count": 37,
   "metadata": {},
   "outputs": [],
   "source": [
    "sharpe_list = []\n",
    "profit_list = []\n",
    "for sigma in x_sigma:\n",
    "    alpha_list, price_list = generate_trajectory(30, 5, 50)\n",
    "    x_array, U = coordinate_golden_section(30,pow(10, -7),sigma, 5, 50)\n",
    "    sharpe_reuslt, profit_result = sharpe_profit(x_array, alpha_list, price_list, sigma)\n",
    "    sharpe_list.append(sharpe_reuslt)\n",
    "    profit_list.append(profit_result)"
   ]
  },
  {
   "cell_type": "code",
   "execution_count": 38,
   "metadata": {},
   "outputs": [
    {
     "data": {
      "image/png": "[encoded data removed]",
      "text/plain": [
       "<Figure size 432x288 with 2 Axes>"
      ]
     },
     "metadata": {
      "needs_background": "light"
     },
     "output_type": "display_data"
    }
   ],
   "source": [
    "plot(x_sigma, profit_list, sharpe_list, 'Volatility')"
   ]
  },
  {
   "cell_type": "code",
   "execution_count": null,
   "metadata": {},
   "outputs": [],
   "source": []
  }
 ],
 "metadata": {
  "kernelspec": {
   "display_name": "Python 3",
   "language": "python",
   "name": "python3"
  },
  "language_info": {
   "codemirror_mode": {
    "name": "ipython",
    "version": 3
   },
   "file_extension": ".py",
   "mimetype": "text/x-python",
   "name": "python",
   "nbconvert_exporter": "python",
   "pygments_lexer": "ipython3",
   "version": "3.7.3"
  }
 },
 "nbformat": 4,
 "nbformat_minor": 2
}
