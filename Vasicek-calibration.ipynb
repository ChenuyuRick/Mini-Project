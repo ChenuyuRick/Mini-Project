{
 "cells": [
  {
   "cell_type": "markdown",
   "metadata": {},
   "source": [
    "# Calibrate Vasicek Model "
   ]
  },
  {
   "cell_type": "markdown",
   "metadata": {},
   "source": [
    "# Part One : Derive the Formula of Eurodollar future rate"
   ]
  },
  {
   "cell_type": "markdown",
   "metadata": {},
   "source": [
    "### Step 1 : Find the ODE"
   ]
  },
  {
   "cell_type": "markdown",
   "metadata": {},
   "source": [
    "From the Vasicek Model, we can get the information that:\n",
    "$$\n",
    "dr(t) = {\\mu - \\kappa r(t)}dt + \\sqrt{\\sigma}dW(t)\n",
    "$$\n",
    "Now, Let's suppose that the price of P can be written as:\n",
    "$$\n",
    "p(t,T) = e^{A(t,T) - B(t, T)r(t)}\n",
    "$$\n",
    "Apply Ito's Lemma:\n",
    "$$\n",
    "dp(t,T) = \\frac{\\partial p(t,T)}{\\partial t}dt + \\frac{\\partial p(t,T)}{\\partial r}dr + \\frac{1}{2}\\frac{\\partial^2 p(t,T)}{\\partial r^2}(dr)^2\n",
    "$$\n",
    "Individually, we can sovle the partial derivatives and get the result:\n",
    "$$\n",
    "\\frac{\\partial p(t,T)}{\\partial t} = (\\frac{dA(t,T)}{dt} - r(t)\\frac{dB(t,T)}{dt})p(t,T)\n",
    "$$\n",
    "$$\n",
    "\\frac{\\partial p(t,T)}{\\partial r} = -B(t,T)p(t,T)\n",
    "$$\n",
    "$$\n",
    "\\frac{\\partial^2 p(t,T)}{\\partial r^2} = B^2(t,T)p(t,T)\n",
    "$$\n",
    "Now, plug in the result above, we get that:\n",
    "$$\n",
    "\\frac{dp(t,T)}{p(t,T)} = (\\frac{dA(t,T)}{dt} - r(t)\\frac{dB(t,T)}{dt})dt - B(t,T)[(\\mu - \\kappa r(t))dt + \\sqrt{\\sigma}dW(t)]+ \\frac{1}{2}B^2(t,T)(\\sigma)dt\n",
    "$$\n",
    "rearange the terms in the equation, we get:\n",
    "$$\n",
    "\\frac{dp(t,T)}{p(t,T)} = [\\frac{dA(t,T)}{dt}-r(t)\\frac{dB(t,T)}{dt} - B(t,T)(\\mu - \\kappa r(t)) + \\frac{1}{2}B^2(t,T)(\\sigma)]dt-B(t,T)\\sqrt{\\sigma}dW(t)\n",
    "$$\n",
    "Under the risk-neutral measure, we have:\n",
    "$$\n",
    "\\frac{dA(t,T)}{dt}-r(t)\\frac{dB(t,T)}{dt} - B(t,T)(\\mu - \\kappa r(t)) + \\frac{1}{2}B^2(t,T)(\\sigma) = r\n",
    "$$\n",
    "Then we can get the following equations:\n",
    "$$\n",
    "\\frac{dA(t,T)}{dt} - B(t,T)\\mu + \\frac{1}{2}B^2(t,T)\\sigma = (1+\\frac{dB(t,T)}{dt}-\\kappa B(t,T))r\n",
    "$$\n",
    "In order to satisfy the equation above, we should satisfy the following two equations:\n",
    "$$\n",
    "\\frac{dA(t,T)}{dt}-B(t,T)\\mu + \\frac{1}{2}\\sigma B^2(t,T) = 0\n",
    "$$\n",
    "$$\n",
    "\\frac{dB(t,T)}{dt}-\\kappa B(t,T)+ 1 = 0\n",
    "$$"
   ]
  },
  {
   "cell_type": "markdown",
   "metadata": {},
   "source": [
    "### Step 2 : Solve the ODE"
   ]
  },
  {
   "cell_type": "markdown",
   "metadata": {},
   "source": [
    "What we should do next is to solve the ODE, and we get:\n",
    "$$\n",
    "B(t,T) = \\frac{1}{\\kappa}-\\frac{1}{\\kappa}e^{-\\kappa(T-t)}\n",
    "$$\n",
    "$$\n",
    "A(t,T) = -(\\frac{\\mu}{\\kappa}-\\frac{\\sigma}{2\\kappa^2})(T-t)+(\\frac{\\mu}{\\kappa^2}-\\frac{3\\sigma}{4\\kappa^3})-(\\frac{\\mu}{\\kappa^2}-\\frac{\\sigma}{\\kappa^3})e^{-\\kappa(T-t)}-\\frac{\\sigma}{4\\kappa^3}e^{-2\\kappa(T-t)}\n",
    "$$"
   ]
  },
  {
   "cell_type": "markdown",
   "metadata": {},
   "source": [
    "### Step 3 : Find the relationship between zero coupon bond and Eurodollar future rate"
   ]
  },
  {
   "cell_type": "markdown",
   "metadata": {},
   "source": [
    "$$\n",
    "F_{t}=\\frac{1}{\\delta}E_{t}^{Q}[\\frac{p(T_{0},T_{1})}{p(T_{0},T_{2})}] - \\frac{1}{\\delta}\n",
    "$$\n",
    "$$\n",
    "F_{t} = \\frac{1}{\\delta}E_{t}^{Q}[e^{A(T_0,T_1)-A(T_0,T_2)-[B(T_0,T_1)-B(T_0,T_2)]r(T_0)}]-\\frac{1}{\\delta}\n",
    "$$"
   ]
  },
  {
   "cell_type": "markdown",
   "metadata": {},
   "source": [
    "# Part Two : Get the data"
   ]
  },
  {
   "cell_type": "code",
   "execution_count": 1,
   "metadata": {},
   "outputs": [],
   "source": [
    "import numpy as np\n",
    "import pandas as pd\n",
    "import matplotlib.pyplot as plt\n",
    "import QuantLib as ql\n",
    "import quandl"
   ]
  },
  {
   "cell_type": "code",
   "execution_count": 2,
   "metadata": {},
   "outputs": [
    {
     "data": {
      "text/html": [
       "<div>\n",
       "<style scoped>\n",
       "    .dataframe tbody tr th:only-of-type {\n",
       "        vertical-align: middle;\n",
       "    }\n",
       "\n",
       "    .dataframe tbody tr th {\n",
       "        vertical-align: top;\n",
       "    }\n",
       "\n",
       "    .dataframe thead th {\n",
       "        text-align: right;\n",
       "    }\n",
       "</style>\n",
       "<table border=\"1\" class=\"dataframe\">\n",
       "  <thead>\n",
       "    <tr style=\"text-align: right;\">\n",
       "      <th></th>\n",
       "      <th>Settle_ED1</th>\n",
       "      <th>Settle_ED2</th>\n",
       "      <th>Settle_ED3</th>\n",
       "      <th>Settle_ED4</th>\n",
       "      <th>Settle_ED5</th>\n",
       "      <th>Settle_ED6</th>\n",
       "      <th>Settle_ED7</th>\n",
       "      <th>Settle_ED8</th>\n",
       "      <th>Settle_ED9</th>\n",
       "      <th>Settle_ED10</th>\n",
       "      <th>Settle_ED11</th>\n",
       "      <th>Settle_ED12</th>\n",
       "      <th>Settle_ED13</th>\n",
       "      <th>Settle_ED14</th>\n",
       "      <th>Settle_ED15</th>\n",
       "      <th>Settle_ED16</th>\n",
       "      <th>Settle_ED17</th>\n",
       "      <th>Settle_ED18</th>\n",
       "      <th>Settle_ED19</th>\n",
       "      <th>Settle_ED20</th>\n",
       "    </tr>\n",
       "    <tr>\n",
       "      <th>Date</th>\n",
       "      <th></th>\n",
       "      <th></th>\n",
       "      <th></th>\n",
       "      <th></th>\n",
       "      <th></th>\n",
       "      <th></th>\n",
       "      <th></th>\n",
       "      <th></th>\n",
       "      <th></th>\n",
       "      <th></th>\n",
       "      <th></th>\n",
       "      <th></th>\n",
       "      <th></th>\n",
       "      <th></th>\n",
       "      <th></th>\n",
       "      <th></th>\n",
       "      <th></th>\n",
       "      <th></th>\n",
       "      <th></th>\n",
       "      <th></th>\n",
       "    </tr>\n",
       "  </thead>\n",
       "  <tbody>\n",
       "    <tr>\n",
       "      <th>2019-05-07</th>\n",
       "      <td>97.4600</td>\n",
       "      <td>97.53</td>\n",
       "      <td>97.550</td>\n",
       "      <td>97.665</td>\n",
       "      <td>97.750</td>\n",
       "      <td>97.825</td>\n",
       "      <td>97.845</td>\n",
       "      <td>97.880</td>\n",
       "      <td>97.875</td>\n",
       "      <td>97.870</td>\n",
       "      <td>97.850</td>\n",
       "      <td>97.835</td>\n",
       "      <td>97.810</td>\n",
       "      <td>97.785</td>\n",
       "      <td>97.755</td>\n",
       "      <td>97.730</td>\n",
       "      <td>97.695</td>\n",
       "      <td>97.660</td>\n",
       "      <td>97.620</td>\n",
       "      <td>97.590</td>\n",
       "    </tr>\n",
       "    <tr>\n",
       "      <th>2019-05-08</th>\n",
       "      <td>97.4600</td>\n",
       "      <td>97.52</td>\n",
       "      <td>97.540</td>\n",
       "      <td>97.650</td>\n",
       "      <td>97.730</td>\n",
       "      <td>97.795</td>\n",
       "      <td>97.810</td>\n",
       "      <td>97.845</td>\n",
       "      <td>97.835</td>\n",
       "      <td>97.830</td>\n",
       "      <td>97.810</td>\n",
       "      <td>97.800</td>\n",
       "      <td>97.770</td>\n",
       "      <td>97.745</td>\n",
       "      <td>97.715</td>\n",
       "      <td>97.690</td>\n",
       "      <td>97.655</td>\n",
       "      <td>97.620</td>\n",
       "      <td>97.580</td>\n",
       "      <td>97.550</td>\n",
       "    </tr>\n",
       "    <tr>\n",
       "      <th>2019-05-09</th>\n",
       "      <td>97.4750</td>\n",
       "      <td>97.54</td>\n",
       "      <td>97.565</td>\n",
       "      <td>97.680</td>\n",
       "      <td>97.765</td>\n",
       "      <td>97.830</td>\n",
       "      <td>97.845</td>\n",
       "      <td>97.880</td>\n",
       "      <td>97.870</td>\n",
       "      <td>97.865</td>\n",
       "      <td>97.845</td>\n",
       "      <td>97.830</td>\n",
       "      <td>97.800</td>\n",
       "      <td>97.775</td>\n",
       "      <td>97.745</td>\n",
       "      <td>97.720</td>\n",
       "      <td>97.685</td>\n",
       "      <td>97.650</td>\n",
       "      <td>97.610</td>\n",
       "      <td>97.580</td>\n",
       "    </tr>\n",
       "    <tr>\n",
       "      <th>2019-05-10</th>\n",
       "      <td>97.4850</td>\n",
       "      <td>97.56</td>\n",
       "      <td>97.585</td>\n",
       "      <td>97.700</td>\n",
       "      <td>97.780</td>\n",
       "      <td>97.845</td>\n",
       "      <td>97.850</td>\n",
       "      <td>97.880</td>\n",
       "      <td>97.870</td>\n",
       "      <td>97.865</td>\n",
       "      <td>97.840</td>\n",
       "      <td>97.825</td>\n",
       "      <td>97.795</td>\n",
       "      <td>97.770</td>\n",
       "      <td>97.740</td>\n",
       "      <td>97.715</td>\n",
       "      <td>97.680</td>\n",
       "      <td>97.645</td>\n",
       "      <td>97.605</td>\n",
       "      <td>97.575</td>\n",
       "    </tr>\n",
       "    <tr>\n",
       "      <th>2019-05-13</th>\n",
       "      <td>97.5025</td>\n",
       "      <td>97.61</td>\n",
       "      <td>97.655</td>\n",
       "      <td>97.790</td>\n",
       "      <td>97.880</td>\n",
       "      <td>97.945</td>\n",
       "      <td>97.945</td>\n",
       "      <td>97.970</td>\n",
       "      <td>97.955</td>\n",
       "      <td>97.945</td>\n",
       "      <td>97.920</td>\n",
       "      <td>97.900</td>\n",
       "      <td>97.865</td>\n",
       "      <td>97.835</td>\n",
       "      <td>97.805</td>\n",
       "      <td>97.775</td>\n",
       "      <td>97.740</td>\n",
       "      <td>97.705</td>\n",
       "      <td>97.665</td>\n",
       "      <td>97.630</td>\n",
       "    </tr>\n",
       "  </tbody>\n",
       "</table>\n",
       "</div>"
      ],
      "text/plain": [
       "            Settle_ED1  Settle_ED2  Settle_ED3  Settle_ED4  Settle_ED5  \\\n",
       "Date                                                                     \n",
       "2019-05-07     97.4600       97.53      97.550      97.665      97.750   \n",
       "2019-05-08     97.4600       97.52      97.540      97.650      97.730   \n",
       "2019-05-09     97.4750       97.54      97.565      97.680      97.765   \n",
       "2019-05-10     97.4850       97.56      97.585      97.700      97.780   \n",
       "2019-05-13     97.5025       97.61      97.655      97.790      97.880   \n",
       "\n",
       "            Settle_ED6  Settle_ED7  Settle_ED8  Settle_ED9  Settle_ED10  \\\n",
       "Date                                                                      \n",
       "2019-05-07      97.825      97.845      97.880      97.875       97.870   \n",
       "2019-05-08      97.795      97.810      97.845      97.835       97.830   \n",
       "2019-05-09      97.830      97.845      97.880      97.870       97.865   \n",
       "2019-05-10      97.845      97.850      97.880      97.870       97.865   \n",
       "2019-05-13      97.945      97.945      97.970      97.955       97.945   \n",
       "\n",
       "            Settle_ED11  Settle_ED12  Settle_ED13  Settle_ED14  Settle_ED15  \\\n",
       "Date                                                                          \n",
       "2019-05-07       97.850       97.835       97.810       97.785       97.755   \n",
       "2019-05-08       97.810       97.800       97.770       97.745       97.715   \n",
       "2019-05-09       97.845       97.830       97.800       97.775       97.745   \n",
       "2019-05-10       97.840       97.825       97.795       97.770       97.740   \n",
       "2019-05-13       97.920       97.900       97.865       97.835       97.805   \n",
       "\n",
       "            Settle_ED16  Settle_ED17  Settle_ED18  Settle_ED19  Settle_ED20  \n",
       "Date                                                                         \n",
       "2019-05-07       97.730       97.695       97.660       97.620       97.590  \n",
       "2019-05-08       97.690       97.655       97.620       97.580       97.550  \n",
       "2019-05-09       97.720       97.685       97.650       97.610       97.580  \n",
       "2019-05-10       97.715       97.680       97.645       97.605       97.575  \n",
       "2019-05-13       97.775       97.740       97.705       97.665       97.630  "
      ]
     },
     "execution_count": 2,
     "metadata": {},
     "output_type": "execute_result"
    }
   ],
   "source": [
    "token = \"su-Y2qYf7QBdkC42qmT3\"\n",
    "n = range(1,21)\n",
    "nms = [\"CHRIS/CME_ED\"+str(i) for i in n]\n",
    "dfs = [quandl.get(nm, authtoken=token) for nm in nms]\n",
    "dfs_settle = []\n",
    "name_list = []\n",
    "for i in range(len(dfs)):\n",
    "    dfs_settle.append(dfs[i]['Settle'])\n",
    "    name_list.append('Settle_ED' + str(i+1))\n",
    "df = pd.concat(dfs_settle, axis = 1)\n",
    "df.columns = name_list\n",
    "df.tail()"
   ]
  },
  {
   "cell_type": "code",
   "execution_count": 3,
   "metadata": {},
   "outputs": [
    {
     "data": {
      "text/plain": [
       "Settle_ED1     97.5025\n",
       "Settle_ED2     97.6100\n",
       "Settle_ED3     97.6550\n",
       "Settle_ED4     97.7900\n",
       "Settle_ED5     97.8800\n",
       "Settle_ED6     97.9450\n",
       "Settle_ED7     97.9450\n",
       "Settle_ED8     97.9700\n",
       "Settle_ED9     97.9550\n",
       "Settle_ED10    97.9450\n",
       "Settle_ED11    97.9200\n",
       "Settle_ED12    97.9000\n",
       "Settle_ED13    97.8650\n",
       "Settle_ED14    97.8350\n",
       "Settle_ED15    97.8050\n",
       "Settle_ED16    97.7750\n",
       "Settle_ED17    97.7400\n",
       "Settle_ED18    97.7050\n",
       "Settle_ED19    97.6650\n",
       "Settle_ED20    97.6300\n",
       "Name: 2019-05-13 00:00:00, dtype: float64"
      ]
     },
     "execution_count": 3,
     "metadata": {},
     "output_type": "execute_result"
    }
   ],
   "source": [
    "df.loc['2019-05-13']"
   ]
  },
  {
   "cell_type": "code",
   "execution_count": 4,
   "metadata": {},
   "outputs": [
    {
     "data": {
      "text/plain": [
       "37"
      ]
     },
     "execution_count": 4,
     "metadata": {},
     "output_type": "execute_result"
    }
   ],
   "source": [
    "### Find the interval between today and next maturity\n",
    "imm = ql.IMM()\n",
    "today = ql.Date(13,5,2019)\n",
    "d1 = ql.Date(13,5,2019)\n",
    "d2 = imm.nextDate(d1)\n",
    "d2-d1"
   ]
  },
  {
   "cell_type": "code",
   "execution_count": 5,
   "metadata": {},
   "outputs": [],
   "source": [
    "### Get the term\n",
    "x = range(0,20,1)\n",
    "term = np.array([xx/4. for xx in x]) + (d2-d1)/365"
   ]
  },
  {
   "cell_type": "code",
   "execution_count": 6,
   "metadata": {},
   "outputs": [],
   "source": [
    "### Initialize the parameters\n",
    "mu = 0.005\n",
    "r0 = 0.015\n",
    "kappa = 0.1\n",
    "vol = 0.008"
   ]
  },
  {
   "cell_type": "markdown",
   "metadata": {},
   "source": [
    "# Part Three : Build the Model and Set up the optimizer"
   ]
  },
  {
   "cell_type": "code",
   "execution_count": 7,
   "metadata": {},
   "outputs": [],
   "source": [
    "class Model:\n",
    "    def __init__(self,r0,mu,kappa,vol):\n",
    "        self.r0 = r0\n",
    "        self.mu = mu\n",
    "        self.kappa = kappa\n",
    "        self.vol = vol\n",
    "        self.var = vol*vol\n",
    "    \n",
    "    def A(self,tau):\n",
    "        return -(self.mu/self.kappa-self.vol/(2*self.kappa**2))*tau + (self.mu/self.kappa**2-3*self.vol/(4*self.kappa**3))-(self.mu/self.kappa**2-self.vol/self.kappa**3)*np.exp(-self.kappa*tau)-self.vol/(4*self.kappa**3)*np.exp(-2*self.kappa*tau)\n",
    "\n",
    "    def B(self,tau):\n",
    "        return 1/self.kappa - 1/self.kappa*np.exp(-self.kappa*tau)\n",
    "\n",
    "    def zero(self,t0,T,r_t0):\n",
    "        tau = T-t0\n",
    "        return np.exp(self.A(tau)-self.B(tau)*r_t0)\n",
    "    \n",
    "    def Expectation(self,t0):\n",
    "        return self.r0*np.exp(-self.kappa*t0)+self.mu/self.kappa*(1-np.exp(-self.kappa*t0))\n",
    "    \n",
    "    def Variance(self,t0):\n",
    "        return self.vol/(2*self.kappa)*(1-np.exp(-2*self.kappa*t0))\n",
    "    \n",
    "    def mean_rate(self,t_fix,T0,T1,dist='Q',accrual=0.25):\n",
    "        A_diff = self.A(T0-t_fix) - self.A(T1-t_fix)\n",
    "        B_diff = self.B(T0-t_fix) - self.B(T1-t_fix)\n",
    "        m = A_diff - B_diff * self.Expectation(t_fix)\n",
    "        v = self.Variance(t_fix)\n",
    "        e = np.exp(m+v/2*(B_diff**2))\n",
    "        return 1/accrual * (e-1)\n",
    "    \n",
    "    def update_params(self,x):\n",
    "        self.r0=x[0]\n",
    "        self.mu=x[1]\n",
    "        self.kappa=x[2]\n",
    "        self.vol=x[3]\n",
    "        self.var = pow(x[3],2)"
   ]
  },
  {
   "cell_type": "code",
   "execution_count": 8,
   "metadata": {},
   "outputs": [],
   "source": [
    "from scipy.optimize import least_squares, leastsq\n",
    "class Fitter:\n",
    "    def __init__(self,model,fut_data,terms):\n",
    "        self.model = model\n",
    "        self.data = np.array(fut_data)\n",
    "        self.terms = terms\n",
    "    \n",
    "    def residuals(self,x):\n",
    "        m = self.model\n",
    "        m.update_params(x)\n",
    "        rate_dist = [m.mean_rate(t,t,t+0.25)*100 for t in self.terms]\n",
    "        residual = np.array(rate_dist) - self.data\n",
    "        return residual\n",
    "    \n",
    "    def fit(self,x0):\n",
    "        bound_lower = [0,-np.inf,-np.inf,0]\n",
    "        bound_upper = [np.inf,np.inf,np.inf,np.inf]\n",
    "        return least_squares(self.residuals,x0,method='trf', bounds=(bound_lower,bound_upper))"
   ]
  },
  {
   "cell_type": "code",
   "execution_count": 9,
   "metadata": {},
   "outputs": [
    {
     "name": "stdout",
     "output_type": "stream",
     "text": [
      "The parameters are calibrated as: [ 0.04203134 -0.08581365 -0.01501722  0.65517353]\n"
     ]
    }
   ],
   "source": [
    "### Fit the model\n",
    "m = Model(r0, mu, kappa, vol)\n",
    "rate_real = np.array(100 - df.loc['2019-05-13'])\n",
    "fit = Fitter(m, rate_real, term)\n",
    "result = fit.fit([r0, mu, kappa, vol])\n",
    "print('The parameters are calibrated as:',result.x)"
   ]
  },
  {
   "cell_type": "code",
   "execution_count": 10,
   "metadata": {},
   "outputs": [
    {
     "data": {
      "image/png": "[encoded data removed]",
      "text/plain": [
       "<Figure size 720x360 with 1 Axes>"
      ]
     },
     "metadata": {
      "needs_background": "light"
     },
     "output_type": "display_data"
    }
   ],
   "source": [
    "### Check the result\n",
    "model_fit = [m.mean_rate(t, t, t+0.25)*100 for t in term]\n",
    "def plot_futures(dt,frame,x,y):\n",
    "    f = plt.figure(figsize=(10,5))\n",
    "    ax = f.add_subplot(111)\n",
    "    ax.yaxis.tick_right()  \n",
    "    crv = frame.loc[dt]\n",
    "    crv_rates = [100-z for z in crv.values]\n",
    "    plots = [plt.plot(x,crv_rates,label=dt,linestyle=\"dotted\",marker='o'),plt.plot(x,y,label='Model')]\n",
    "    plt.legend(loc='lower right')    \n",
    "    plt.show()\n",
    "plot_futures('2019-05-13',df,term,model_fit)"
   ]
  },
  {
   "cell_type": "code",
   "execution_count": null,
   "metadata": {},
   "outputs": [],
   "source": []
  }
 ],
 "metadata": {
  "kernelspec": {
   "display_name": "Python 3",
   "language": "python",
   "name": "python3"
  },
  "language_info": {
   "codemirror_mode": {
    "name": "ipython",
    "version": 3
   },
   "file_extension": ".py",
   "mimetype": "text/x-python",
   "name": "python",
   "nbconvert_exporter": "python",
   "pygments_lexer": "ipython3",
   "version": "3.7.3"
  }
 },
 "nbformat": 4,
 "nbformat_minor": 2
}
